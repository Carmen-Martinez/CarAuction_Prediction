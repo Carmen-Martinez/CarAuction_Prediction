{
  "nbformat": 4,
  "nbformat_minor": 0,
  "metadata": {
    "accelerator": "GPU",
    "colab": {
      "name": "Car_Auction_Cost_Prediction.ipynb",
      "provenance": [],
      "collapsed_sections": []
    },
    "kernelspec": {
      "display_name": "Python 3",
      "name": "python3"
    },
    "language_info": {
      "name": "python"
    }
  },
  "cells": [
    {
      "cell_type": "markdown",
      "metadata": {
        "id": "5KCSMpYhVtG_"
      },
      "source": [
        "### Determining the selling price of used cars for auction allows for steady risk and financial management "
      ]
    },
    {
      "cell_type": "code",
      "metadata": {
        "colab": {
          "base_uri": "https://localhost:8080/"
        },
        "id": "MnGSIMgdmYvJ",
        "outputId": "79cb14e4-c847-437a-cbbd-a6f60ec639bc"
      },
      "source": [
        " !pip install scikit-learn==0.24.1"
      ],
      "execution_count": 325,
      "outputs": [
        {
          "output_type": "stream",
          "text": [
            "Requirement already satisfied: scikit-learn==0.24.1 in /usr/local/lib/python3.7/dist-packages (0.24.1)\n",
            "Requirement already satisfied: numpy>=1.13.3 in /usr/local/lib/python3.7/dist-packages (from scikit-learn==0.24.1) (1.19.5)\n",
            "Requirement already satisfied: joblib>=0.11 in /usr/local/lib/python3.7/dist-packages (from scikit-learn==0.24.1) (1.0.1)\n",
            "Requirement already satisfied: threadpoolctl>=2.0.0 in /usr/local/lib/python3.7/dist-packages (from scikit-learn==0.24.1) (2.2.0)\n",
            "Requirement already satisfied: scipy>=0.19.1 in /usr/local/lib/python3.7/dist-packages (from scikit-learn==0.24.1) (1.4.1)\n"
          ],
          "name": "stdout"
        }
      ]
    },
    {
      "cell_type": "code",
      "metadata": {
        "colab": {
          "base_uri": "https://localhost:8080/",
          "height": 35
        },
        "id": "IimXxg8WsdEX",
        "outputId": "8d8fae9b-564b-4d61-d03e-a50d3f4b34e0"
      },
      "source": [
        "import sklearn\n",
        "sklearn.__version__"
      ],
      "execution_count": 326,
      "outputs": [
        {
          "output_type": "execute_result",
          "data": {
            "application/vnd.google.colaboratory.intrinsic+json": {
              "type": "string"
            },
            "text/plain": [
              "'0.24.1'"
            ]
          },
          "metadata": {
            "tags": []
          },
          "execution_count": 326
        }
      ]
    },
    {
      "cell_type": "code",
      "metadata": {
        "id": "BNLPazL3VWrq"
      },
      "source": [
        "import pandas as pd\n",
        "import numpy as np\n",
        "import matplotlib.pyplot as plt\n",
        "import seaborn as sns\n",
        "from scipy import stats\n",
        "from scipy.signal import savgol_filter\n",
        "from sklearn.decomposition import PCA\n",
        "from wordcloud import WordCloud\n",
        "from sklearn.preprocessing import normalize\n",
        "from sklearn.preprocessing import scale\n",
        "from sklearn.preprocessing import StandardScaler\n",
        "from sklearn.ensemble import RandomForestRegressor"
      ],
      "execution_count": 327,
      "outputs": []
    },
    {
      "cell_type": "markdown",
      "metadata": {
        "id": "1Dt96vmsEv03"
      },
      "source": [
        "Removing bad rows"
      ]
    },
    {
      "cell_type": "code",
      "metadata": {
        "colab": {
          "base_uri": "https://localhost:8080/"
        },
        "id": "XjOHjgtDVc2u",
        "outputId": "5b237a9c-542f-471e-e399-1c76aa8ced5a"
      },
      "source": [
        "car_df = pd.read_csv('car_prices.csv', error_bad_lines=False, engine='python')"
      ],
      "execution_count": 328,
      "outputs": [
        {
          "output_type": "stream",
          "text": [
            "Skipping line 187590: ',' expected after '\"'\n",
            "Skipping line 188328: ',' expected after '\"'\n",
            "Skipping line 200738: ',' expected after '\"'\n",
            "Skipping line 200968: ',' expected after '\"'\n",
            "Skipping line 406738: ',' expected after '\"'\n",
            "Skipping line 408158: Expected 16 fields in line 408158, saw 17\n",
            "Skipping line 417832: Expected 16 fields in line 417832, saw 17\n",
            "Skipping line 421286: Expected 16 fields in line 421286, saw 17\n",
            "Skipping line 424158: Expected 16 fields in line 424158, saw 17\n",
            "Skipping line 427037: Expected 16 fields in line 427037, saw 17\n",
            "Skipping line 427040: Expected 16 fields in line 427040, saw 17\n",
            "Skipping line 434421: Expected 16 fields in line 434421, saw 17\n",
            "Skipping line 444498: Expected 16 fields in line 444498, saw 17\n",
            "Skipping line 453791: Expected 16 fields in line 453791, saw 17\n",
            "Skipping line 461594: Expected 16 fields in line 461594, saw 17\n",
            "Skipping line 461609: Expected 16 fields in line 461609, saw 17\n",
            "Skipping line 492481: Expected 16 fields in line 492481, saw 17\n",
            "Skipping line 497005: Expected 16 fields in line 497005, saw 17\n",
            "Skipping line 497008: Expected 16 fields in line 497008, saw 17\n",
            "Skipping line 499080: Expected 16 fields in line 499080, saw 17\n",
            "Skipping line 501452: Expected 16 fields in line 501452, saw 17\n",
            "Skipping line 505296: Expected 16 fields in line 505296, saw 17\n",
            "Skipping line 505303: Expected 16 fields in line 505303, saw 17\n",
            "Skipping line 520458: Expected 16 fields in line 520458, saw 17\n",
            "Skipping line 528993: Expected 16 fields in line 528993, saw 17\n",
            "Skipping line 529006: Expected 16 fields in line 529006, saw 17\n",
            "Skipping line 529010: Expected 16 fields in line 529010, saw 17\n",
            "Skipping line 529619: Expected 16 fields in line 529619, saw 17\n",
            "Skipping line 548781: Expected 16 fields in line 548781, saw 17\n",
            "Skipping line 551219: Expected 16 fields in line 551219, saw 17\n",
            "Skipping line 554707: Expected 16 fields in line 554707, saw 17\n"
          ],
          "name": "stderr"
        }
      ]
    },
    {
      "cell_type": "markdown",
      "metadata": {
        "id": "4GX1gUPUE1qU"
      },
      "source": [
        "## Understanding the Data"
      ]
    },
    {
      "cell_type": "code",
      "metadata": {
        "colab": {
          "base_uri": "https://localhost:8080/",
          "height": 649
        },
        "id": "DXSBAImXWCPo",
        "outputId": "73f45e9f-eb3f-4f89-cda8-2e2fb12200ee"
      },
      "source": [
        "car_df.head()"
      ],
      "execution_count": 329,
      "outputs": [
        {
          "output_type": "execute_result",
          "data": {
            "text/html": [
              "<div>\n",
              "<style scoped>\n",
              "    .dataframe tbody tr th:only-of-type {\n",
              "        vertical-align: middle;\n",
              "    }\n",
              "\n",
              "    .dataframe tbody tr th {\n",
              "        vertical-align: top;\n",
              "    }\n",
              "\n",
              "    .dataframe thead th {\n",
              "        text-align: right;\n",
              "    }\n",
              "</style>\n",
              "<table border=\"1\" class=\"dataframe\">\n",
              "  <thead>\n",
              "    <tr style=\"text-align: right;\">\n",
              "      <th></th>\n",
              "      <th>year</th>\n",
              "      <th>make</th>\n",
              "      <th>model</th>\n",
              "      <th>trim</th>\n",
              "      <th>body</th>\n",
              "      <th>transmission</th>\n",
              "      <th>vin</th>\n",
              "      <th>state</th>\n",
              "      <th>condition</th>\n",
              "      <th>odometer</th>\n",
              "      <th>color</th>\n",
              "      <th>interior</th>\n",
              "      <th>seller</th>\n",
              "      <th>mmr</th>\n",
              "      <th>sellingprice</th>\n",
              "      <th>saledate</th>\n",
              "    </tr>\n",
              "  </thead>\n",
              "  <tbody>\n",
              "    <tr>\n",
              "      <th>0</th>\n",
              "      <td>2015</td>\n",
              "      <td>Kia</td>\n",
              "      <td>Sorento</td>\n",
              "      <td>LX</td>\n",
              "      <td>SUV</td>\n",
              "      <td>automatic</td>\n",
              "      <td>5xyktca69fg566472</td>\n",
              "      <td>ca</td>\n",
              "      <td>5.0</td>\n",
              "      <td>16639.0</td>\n",
              "      <td>white</td>\n",
              "      <td>black</td>\n",
              "      <td>kia motors america, inc</td>\n",
              "      <td>20500</td>\n",
              "      <td>21500</td>\n",
              "      <td>Tue Dec 16 2014 12:30:00 GMT-0800 (PST)</td>\n",
              "    </tr>\n",
              "    <tr>\n",
              "      <th>1</th>\n",
              "      <td>2015</td>\n",
              "      <td>Kia</td>\n",
              "      <td>Sorento</td>\n",
              "      <td>LX</td>\n",
              "      <td>SUV</td>\n",
              "      <td>automatic</td>\n",
              "      <td>5xyktca69fg561319</td>\n",
              "      <td>ca</td>\n",
              "      <td>5.0</td>\n",
              "      <td>9393.0</td>\n",
              "      <td>white</td>\n",
              "      <td>beige</td>\n",
              "      <td>kia motors america, inc</td>\n",
              "      <td>20800</td>\n",
              "      <td>21500</td>\n",
              "      <td>Tue Dec 16 2014 12:30:00 GMT-0800 (PST)</td>\n",
              "    </tr>\n",
              "    <tr>\n",
              "      <th>2</th>\n",
              "      <td>2014</td>\n",
              "      <td>BMW</td>\n",
              "      <td>3 Series</td>\n",
              "      <td>328i SULEV</td>\n",
              "      <td>Sedan</td>\n",
              "      <td>automatic</td>\n",
              "      <td>wba3c1c51ek116351</td>\n",
              "      <td>ca</td>\n",
              "      <td>4.5</td>\n",
              "      <td>1331.0</td>\n",
              "      <td>gray</td>\n",
              "      <td>black</td>\n",
              "      <td>financial services remarketing (lease)</td>\n",
              "      <td>31900</td>\n",
              "      <td>30000</td>\n",
              "      <td>Thu Jan 15 2015 04:30:00 GMT-0800 (PST)</td>\n",
              "    </tr>\n",
              "    <tr>\n",
              "      <th>3</th>\n",
              "      <td>2015</td>\n",
              "      <td>Volvo</td>\n",
              "      <td>S60</td>\n",
              "      <td>T5</td>\n",
              "      <td>Sedan</td>\n",
              "      <td>automatic</td>\n",
              "      <td>yv1612tb4f1310987</td>\n",
              "      <td>ca</td>\n",
              "      <td>4.1</td>\n",
              "      <td>14282.0</td>\n",
              "      <td>white</td>\n",
              "      <td>black</td>\n",
              "      <td>volvo na rep/world omni</td>\n",
              "      <td>27500</td>\n",
              "      <td>27750</td>\n",
              "      <td>Thu Jan 29 2015 04:30:00 GMT-0800 (PST)</td>\n",
              "    </tr>\n",
              "    <tr>\n",
              "      <th>4</th>\n",
              "      <td>2014</td>\n",
              "      <td>BMW</td>\n",
              "      <td>6 Series Gran Coupe</td>\n",
              "      <td>650i</td>\n",
              "      <td>Sedan</td>\n",
              "      <td>automatic</td>\n",
              "      <td>wba6b2c57ed129731</td>\n",
              "      <td>ca</td>\n",
              "      <td>4.3</td>\n",
              "      <td>2641.0</td>\n",
              "      <td>gray</td>\n",
              "      <td>black</td>\n",
              "      <td>financial services remarketing (lease)</td>\n",
              "      <td>66000</td>\n",
              "      <td>67000</td>\n",
              "      <td>Thu Dec 18 2014 12:30:00 GMT-0800 (PST)</td>\n",
              "    </tr>\n",
              "  </tbody>\n",
              "</table>\n",
              "</div>"
            ],
            "text/plain": [
              "   year   make  ... sellingprice                                 saledate\n",
              "0  2015    Kia  ...        21500  Tue Dec 16 2014 12:30:00 GMT-0800 (PST)\n",
              "1  2015    Kia  ...        21500  Tue Dec 16 2014 12:30:00 GMT-0800 (PST)\n",
              "2  2014    BMW  ...        30000  Thu Jan 15 2015 04:30:00 GMT-0800 (PST)\n",
              "3  2015  Volvo  ...        27750  Thu Jan 29 2015 04:30:00 GMT-0800 (PST)\n",
              "4  2014    BMW  ...        67000  Thu Dec 18 2014 12:30:00 GMT-0800 (PST)\n",
              "\n",
              "[5 rows x 16 columns]"
            ]
          },
          "metadata": {
            "tags": []
          },
          "execution_count": 329
        }
      ]
    },
    {
      "cell_type": "code",
      "metadata": {
        "colab": {
          "base_uri": "https://localhost:8080/"
        },
        "id": "_qcqEDCOWLfu",
        "outputId": "4160f8f1-66d9-47b7-e412-29552bcce7af"
      },
      "source": [
        "car_df.info()"
      ],
      "execution_count": 330,
      "outputs": [
        {
          "output_type": "stream",
          "text": [
            "<class 'pandas.core.frame.DataFrame'>\n",
            "RangeIndex: 558806 entries, 0 to 558805\n",
            "Data columns (total 16 columns):\n",
            " #   Column        Non-Null Count   Dtype  \n",
            "---  ------        --------------   -----  \n",
            " 0   year          558806 non-null  int64  \n",
            " 1   make          548505 non-null  object \n",
            " 2   model         548407 non-null  object \n",
            " 3   trim          548155 non-null  object \n",
            " 4   body          545611 non-null  object \n",
            " 5   transmission  493453 non-null  object \n",
            " 6   vin           558806 non-null  object \n",
            " 7   state         558806 non-null  object \n",
            " 8   condition     547012 non-null  float64\n",
            " 9   odometer      558712 non-null  float64\n",
            " 10  color         558057 non-null  object \n",
            " 11  interior      558057 non-null  object \n",
            " 12  seller        558806 non-null  object \n",
            " 13  mmr           558806 non-null  int64  \n",
            " 14  sellingprice  558806 non-null  int64  \n",
            " 15  saledate      558806 non-null  object \n",
            "dtypes: float64(2), int64(3), object(11)\n",
            "memory usage: 68.2+ MB\n"
          ],
          "name": "stdout"
        }
      ]
    },
    {
      "cell_type": "code",
      "metadata": {
        "colab": {
          "base_uri": "https://localhost:8080/",
          "height": 297
        },
        "id": "cF0xyYb9WX1J",
        "outputId": "6fb206fd-7a62-4b7c-ad2f-c97ed52c540a"
      },
      "source": [
        "car_df.describe()"
      ],
      "execution_count": 331,
      "outputs": [
        {
          "output_type": "execute_result",
          "data": {
            "text/html": [
              "<div>\n",
              "<style scoped>\n",
              "    .dataframe tbody tr th:only-of-type {\n",
              "        vertical-align: middle;\n",
              "    }\n",
              "\n",
              "    .dataframe tbody tr th {\n",
              "        vertical-align: top;\n",
              "    }\n",
              "\n",
              "    .dataframe thead th {\n",
              "        text-align: right;\n",
              "    }\n",
              "</style>\n",
              "<table border=\"1\" class=\"dataframe\">\n",
              "  <thead>\n",
              "    <tr style=\"text-align: right;\">\n",
              "      <th></th>\n",
              "      <th>year</th>\n",
              "      <th>condition</th>\n",
              "      <th>odometer</th>\n",
              "      <th>mmr</th>\n",
              "      <th>sellingprice</th>\n",
              "    </tr>\n",
              "  </thead>\n",
              "  <tbody>\n",
              "    <tr>\n",
              "      <th>count</th>\n",
              "      <td>558806.000000</td>\n",
              "      <td>547012.000000</td>\n",
              "      <td>558712.000000</td>\n",
              "      <td>558806.000000</td>\n",
              "      <td>558806.000000</td>\n",
              "    </tr>\n",
              "    <tr>\n",
              "      <th>mean</th>\n",
              "      <td>2010.038659</td>\n",
              "      <td>3.424503</td>\n",
              "      <td>68323.586393</td>\n",
              "      <td>13769.284913</td>\n",
              "      <td>13611.174517</td>\n",
              "    </tr>\n",
              "    <tr>\n",
              "      <th>std</th>\n",
              "      <td>3.966810</td>\n",
              "      <td>0.949437</td>\n",
              "      <td>53397.831520</td>\n",
              "      <td>9679.905657</td>\n",
              "      <td>9749.618445</td>\n",
              "    </tr>\n",
              "    <tr>\n",
              "      <th>min</th>\n",
              "      <td>1982.000000</td>\n",
              "      <td>1.000000</td>\n",
              "      <td>1.000000</td>\n",
              "      <td>25.000000</td>\n",
              "      <td>1.000000</td>\n",
              "    </tr>\n",
              "    <tr>\n",
              "      <th>25%</th>\n",
              "      <td>2007.000000</td>\n",
              "      <td>2.700000</td>\n",
              "      <td>28375.000000</td>\n",
              "      <td>7100.000000</td>\n",
              "      <td>6900.000000</td>\n",
              "    </tr>\n",
              "    <tr>\n",
              "      <th>50%</th>\n",
              "      <td>2012.000000</td>\n",
              "      <td>3.600000</td>\n",
              "      <td>52256.500000</td>\n",
              "      <td>12250.000000</td>\n",
              "      <td>12100.000000</td>\n",
              "    </tr>\n",
              "    <tr>\n",
              "      <th>75%</th>\n",
              "      <td>2013.000000</td>\n",
              "      <td>4.200000</td>\n",
              "      <td>99113.250000</td>\n",
              "      <td>18300.000000</td>\n",
              "      <td>18200.000000</td>\n",
              "    </tr>\n",
              "    <tr>\n",
              "      <th>max</th>\n",
              "      <td>2015.000000</td>\n",
              "      <td>5.000000</td>\n",
              "      <td>999999.000000</td>\n",
              "      <td>182000.000000</td>\n",
              "      <td>230000.000000</td>\n",
              "    </tr>\n",
              "  </tbody>\n",
              "</table>\n",
              "</div>"
            ],
            "text/plain": [
              "                year      condition  ...            mmr   sellingprice\n",
              "count  558806.000000  547012.000000  ...  558806.000000  558806.000000\n",
              "mean     2010.038659       3.424503  ...   13769.284913   13611.174517\n",
              "std         3.966810       0.949437  ...    9679.905657    9749.618445\n",
              "min      1982.000000       1.000000  ...      25.000000       1.000000\n",
              "25%      2007.000000       2.700000  ...    7100.000000    6900.000000\n",
              "50%      2012.000000       3.600000  ...   12250.000000   12100.000000\n",
              "75%      2013.000000       4.200000  ...   18300.000000   18200.000000\n",
              "max      2015.000000       5.000000  ...  182000.000000  230000.000000\n",
              "\n",
              "[8 rows x 5 columns]"
            ]
          },
          "metadata": {
            "tags": []
          },
          "execution_count": 331
        }
      ]
    },
    {
      "cell_type": "code",
      "metadata": {
        "colab": {
          "base_uri": "https://localhost:8080/",
          "height": 207
        },
        "id": "MwkO70fzXYdL",
        "outputId": "88447334-f672-4e01-d6db-39544039946c"
      },
      "source": [
        "car_df.describe(include=['O'])\n"
      ],
      "execution_count": 332,
      "outputs": [
        {
          "output_type": "execute_result",
          "data": {
            "text/html": [
              "<div>\n",
              "<style scoped>\n",
              "    .dataframe tbody tr th:only-of-type {\n",
              "        vertical-align: middle;\n",
              "    }\n",
              "\n",
              "    .dataframe tbody tr th {\n",
              "        vertical-align: top;\n",
              "    }\n",
              "\n",
              "    .dataframe thead th {\n",
              "        text-align: right;\n",
              "    }\n",
              "</style>\n",
              "<table border=\"1\" class=\"dataframe\">\n",
              "  <thead>\n",
              "    <tr style=\"text-align: right;\">\n",
              "      <th></th>\n",
              "      <th>make</th>\n",
              "      <th>model</th>\n",
              "      <th>trim</th>\n",
              "      <th>body</th>\n",
              "      <th>transmission</th>\n",
              "      <th>vin</th>\n",
              "      <th>state</th>\n",
              "      <th>color</th>\n",
              "      <th>interior</th>\n",
              "      <th>seller</th>\n",
              "      <th>saledate</th>\n",
              "    </tr>\n",
              "  </thead>\n",
              "  <tbody>\n",
              "    <tr>\n",
              "      <th>count</th>\n",
              "      <td>548505</td>\n",
              "      <td>548407</td>\n",
              "      <td>548155</td>\n",
              "      <td>545611</td>\n",
              "      <td>493453</td>\n",
              "      <td>558806</td>\n",
              "      <td>558806</td>\n",
              "      <td>558057</td>\n",
              "      <td>558057</td>\n",
              "      <td>558806</td>\n",
              "      <td>558806</td>\n",
              "    </tr>\n",
              "    <tr>\n",
              "      <th>unique</th>\n",
              "      <td>96</td>\n",
              "      <td>973</td>\n",
              "      <td>1975</td>\n",
              "      <td>86</td>\n",
              "      <td>2</td>\n",
              "      <td>550291</td>\n",
              "      <td>38</td>\n",
              "      <td>20</td>\n",
              "      <td>17</td>\n",
              "      <td>14263</td>\n",
              "      <td>3745</td>\n",
              "    </tr>\n",
              "    <tr>\n",
              "      <th>top</th>\n",
              "      <td>Ford</td>\n",
              "      <td>Altima</td>\n",
              "      <td>Base</td>\n",
              "      <td>Sedan</td>\n",
              "      <td>automatic</td>\n",
              "      <td>wbanv13588cz57827</td>\n",
              "      <td>fl</td>\n",
              "      <td>black</td>\n",
              "      <td>black</td>\n",
              "      <td>nissan-infiniti lt</td>\n",
              "      <td>Tue Feb 10 2015 01:30:00 GMT-0800 (PST)</td>\n",
              "    </tr>\n",
              "    <tr>\n",
              "      <th>freq</th>\n",
              "      <td>93554</td>\n",
              "      <td>19349</td>\n",
              "      <td>55817</td>\n",
              "      <td>199436</td>\n",
              "      <td>475909</td>\n",
              "      <td>5</td>\n",
              "      <td>82945</td>\n",
              "      <td>110970</td>\n",
              "      <td>244323</td>\n",
              "      <td>19693</td>\n",
              "      <td>5334</td>\n",
              "    </tr>\n",
              "  </tbody>\n",
              "</table>\n",
              "</div>"
            ],
            "text/plain": [
              "          make  ...                                 saledate\n",
              "count   548505  ...                                   558806\n",
              "unique      96  ...                                     3745\n",
              "top       Ford  ...  Tue Feb 10 2015 01:30:00 GMT-0800 (PST)\n",
              "freq     93554  ...                                     5334\n",
              "\n",
              "[4 rows x 11 columns]"
            ]
          },
          "metadata": {
            "tags": []
          },
          "execution_count": 332
        }
      ]
    },
    {
      "cell_type": "code",
      "metadata": {
        "colab": {
          "base_uri": "https://localhost:8080/"
        },
        "id": "odefb1lfcOri",
        "outputId": "633a7858-0667-4b65-add9-464c79e30d6b"
      },
      "source": [
        "car_df.nunique()"
      ],
      "execution_count": 333,
      "outputs": [
        {
          "output_type": "execute_result",
          "data": {
            "text/plain": [
              "year                34\n",
              "make                96\n",
              "model              973\n",
              "trim              1975\n",
              "body                86\n",
              "transmission         2\n",
              "vin             550291\n",
              "state               38\n",
              "condition           41\n",
              "odometer        172277\n",
              "color               20\n",
              "interior            17\n",
              "seller           14263\n",
              "mmr               1101\n",
              "sellingprice      1887\n",
              "saledate          3745\n",
              "dtype: int64"
            ]
          },
          "metadata": {
            "tags": []
          },
          "execution_count": 333
        }
      ]
    },
    {
      "cell_type": "markdown",
      "metadata": {
        "id": "he3mQj6vdM4Y"
      },
      "source": [
        "## Cleaning the Data"
      ]
    },
    {
      "cell_type": "code",
      "metadata": {
        "id": "RB7SVzzOZa6N"
      },
      "source": [
        "car_df = car_df.drop_duplicates(subset=['vin'])"
      ],
      "execution_count": 334,
      "outputs": []
    },
    {
      "cell_type": "code",
      "metadata": {
        "id": "MB5lfGDeZ0CE"
      },
      "source": [
        "# 'vin' is unique so it's not needed but has been used to remove duplicates, \n",
        "# 'saledate' is not important for this project but some valuable information can be extracted using time-series analysis\n",
        "car_df.drop(columns=['vin', 'saledate', 'seller'], axis=1, inplace=True)"
      ],
      "execution_count": 335,
      "outputs": []
    },
    {
      "cell_type": "code",
      "metadata": {
        "colab": {
          "base_uri": "https://localhost:8080/"
        },
        "id": "tVxUNO0cgEx2",
        "outputId": "279c7527-ade6-460a-9c7e-6058504210b6"
      },
      "source": [
        "car_df.isnull().sum()*100/car_df.isnull().count()"
      ],
      "execution_count": 336,
      "outputs": [
        {
          "output_type": "execute_result",
          "data": {
            "text/plain": [
              "year             0.000000\n",
              "make             1.836119\n",
              "model            1.853928\n",
              "trim             1.899177\n",
              "body             2.360024\n",
              "transmission    11.716165\n",
              "state            0.000000\n",
              "condition        2.141412\n",
              "odometer         0.015992\n",
              "color            0.135201\n",
              "interior         0.135201\n",
              "mmr              0.000000\n",
              "sellingprice     0.000000\n",
              "dtype: float64"
            ]
          },
          "metadata": {
            "tags": []
          },
          "execution_count": 336
        }
      ]
    },
    {
      "cell_type": "markdown",
      "metadata": {
        "id": "KGr9PbLrijDv"
      },
      "source": [
        "#### Handling Missing Values\n",
        "\n",
        "I decided to just remove any missing values for simplicity but mean imputations for continuous variables may be better"
      ]
    },
    {
      "cell_type": "code",
      "metadata": {
        "id": "8kXSablkEsAS"
      },
      "source": [
        "for blank in car_df.columns:\n",
        "  car_df[blank] = car_df[blank].replace('', np.nan)\n",
        "\n"
      ],
      "execution_count": 337,
      "outputs": []
    },
    {
      "cell_type": "code",
      "metadata": {
        "id": "rnXC8NIChaxj"
      },
      "source": [
        "car_df = car_df.dropna()"
      ],
      "execution_count": 338,
      "outputs": []
    },
    {
      "cell_type": "code",
      "metadata": {
        "colab": {
          "base_uri": "https://localhost:8080/"
        },
        "id": "zaHSu3nah_lA",
        "outputId": "86c7e6d1-cb52-4ed3-ded4-5ee5dd502f4b"
      },
      "source": [
        "car_df.isnull().sum()*100/car_df.isnull().count()"
      ],
      "execution_count": 339,
      "outputs": [
        {
          "output_type": "execute_result",
          "data": {
            "text/plain": [
              "year            0.0\n",
              "make            0.0\n",
              "model           0.0\n",
              "trim            0.0\n",
              "body            0.0\n",
              "transmission    0.0\n",
              "state           0.0\n",
              "condition       0.0\n",
              "odometer        0.0\n",
              "color           0.0\n",
              "interior        0.0\n",
              "mmr             0.0\n",
              "sellingprice    0.0\n",
              "dtype: float64"
            ]
          },
          "metadata": {
            "tags": []
          },
          "execution_count": 339
        }
      ]
    },
    {
      "cell_type": "code",
      "metadata": {
        "id": "lsXwuiB2uX6K"
      },
      "source": [
        "car_df[['interior', 'color']] = car_df[['interior', 'color']].replace(\"—\", np.nan)"
      ],
      "execution_count": 340,
      "outputs": []
    },
    {
      "cell_type": "markdown",
      "metadata": {
        "id": "l6Teea3NdYuX"
      },
      "source": [
        "#### Structural Problems: Different Category Error\n"
      ]
    },
    {
      "cell_type": "code",
      "metadata": {
        "id": "lyhWbAyiq3Qr"
      },
      "source": [
        "# remove any categories with less than 100 observations in the df\n",
        "car_df = car_df.groupby('make').filter(lambda x : len(x)>100)\n",
        "car_df = car_df.groupby('model').filter(lambda x : len(x)>100)\n",
        "car_df = car_df.groupby('interior').filter(lambda x : len(x)>100)\n",
        "car_df = car_df.groupby('color').filter(lambda x : len(x)>100)\n",
        "car_df = car_df.groupby('body').filter(lambda x : len(x)>100)\n",
        "car_df = car_df.groupby('trim').filter(lambda x : len(x)>100)\n",
        "car_df = car_df.groupby('state').filter(lambda x : len(x)>100)"
      ],
      "execution_count": 341,
      "outputs": []
    },
    {
      "cell_type": "markdown",
      "metadata": {
        "id": "syZyUvNI3uLt"
      },
      "source": [
        "#### Text Errors"
      ]
    },
    {
      "cell_type": "code",
      "metadata": {
        "id": "JdVJLRW33rtj"
      },
      "source": [
        "# removes any categorical errors by capitalizing the first letter only\n",
        "car_df['body'] = car_df['body'].apply(lambda x: x.capitalize())\n",
        "car_df['state'] = car_df['state'].apply(lambda x: x.upper())\n",
        "car_df['trim'] = car_df['trim'].apply(lambda x: x.upper())"
      ],
      "execution_count": 342,
      "outputs": []
    },
    {
      "cell_type": "code",
      "metadata": {
        "colab": {
          "base_uri": "https://localhost:8080/",
          "height": 204
        },
        "id": "iUYR1w-V3_xn",
        "outputId": "c01a0ea2-9a1b-4977-e322-30ac4feb2f8c"
      },
      "source": [
        "car_df.head()"
      ],
      "execution_count": 343,
      "outputs": [
        {
          "output_type": "execute_result",
          "data": {
            "text/html": [
              "<div>\n",
              "<style scoped>\n",
              "    .dataframe tbody tr th:only-of-type {\n",
              "        vertical-align: middle;\n",
              "    }\n",
              "\n",
              "    .dataframe tbody tr th {\n",
              "        vertical-align: top;\n",
              "    }\n",
              "\n",
              "    .dataframe thead th {\n",
              "        text-align: right;\n",
              "    }\n",
              "</style>\n",
              "<table border=\"1\" class=\"dataframe\">\n",
              "  <thead>\n",
              "    <tr style=\"text-align: right;\">\n",
              "      <th></th>\n",
              "      <th>year</th>\n",
              "      <th>make</th>\n",
              "      <th>model</th>\n",
              "      <th>trim</th>\n",
              "      <th>body</th>\n",
              "      <th>transmission</th>\n",
              "      <th>state</th>\n",
              "      <th>condition</th>\n",
              "      <th>odometer</th>\n",
              "      <th>color</th>\n",
              "      <th>interior</th>\n",
              "      <th>mmr</th>\n",
              "      <th>sellingprice</th>\n",
              "    </tr>\n",
              "  </thead>\n",
              "  <tbody>\n",
              "    <tr>\n",
              "      <th>0</th>\n",
              "      <td>2015</td>\n",
              "      <td>Kia</td>\n",
              "      <td>Sorento</td>\n",
              "      <td>LX</td>\n",
              "      <td>Suv</td>\n",
              "      <td>automatic</td>\n",
              "      <td>CA</td>\n",
              "      <td>5.0</td>\n",
              "      <td>16639.0</td>\n",
              "      <td>white</td>\n",
              "      <td>black</td>\n",
              "      <td>20500</td>\n",
              "      <td>21500</td>\n",
              "    </tr>\n",
              "    <tr>\n",
              "      <th>1</th>\n",
              "      <td>2015</td>\n",
              "      <td>Kia</td>\n",
              "      <td>Sorento</td>\n",
              "      <td>LX</td>\n",
              "      <td>Suv</td>\n",
              "      <td>automatic</td>\n",
              "      <td>CA</td>\n",
              "      <td>5.0</td>\n",
              "      <td>9393.0</td>\n",
              "      <td>white</td>\n",
              "      <td>beige</td>\n",
              "      <td>20800</td>\n",
              "      <td>21500</td>\n",
              "    </tr>\n",
              "    <tr>\n",
              "      <th>3</th>\n",
              "      <td>2015</td>\n",
              "      <td>Volvo</td>\n",
              "      <td>S60</td>\n",
              "      <td>T5</td>\n",
              "      <td>Sedan</td>\n",
              "      <td>automatic</td>\n",
              "      <td>CA</td>\n",
              "      <td>4.1</td>\n",
              "      <td>14282.0</td>\n",
              "      <td>white</td>\n",
              "      <td>black</td>\n",
              "      <td>27500</td>\n",
              "      <td>27750</td>\n",
              "    </tr>\n",
              "    <tr>\n",
              "      <th>5</th>\n",
              "      <td>2015</td>\n",
              "      <td>Nissan</td>\n",
              "      <td>Altima</td>\n",
              "      <td>2.5 S</td>\n",
              "      <td>Sedan</td>\n",
              "      <td>automatic</td>\n",
              "      <td>CA</td>\n",
              "      <td>1.0</td>\n",
              "      <td>5554.0</td>\n",
              "      <td>gray</td>\n",
              "      <td>black</td>\n",
              "      <td>15350</td>\n",
              "      <td>10900</td>\n",
              "    </tr>\n",
              "    <tr>\n",
              "      <th>7</th>\n",
              "      <td>2014</td>\n",
              "      <td>Chevrolet</td>\n",
              "      <td>Cruze</td>\n",
              "      <td>1LT</td>\n",
              "      <td>Sedan</td>\n",
              "      <td>automatic</td>\n",
              "      <td>CA</td>\n",
              "      <td>2.0</td>\n",
              "      <td>28617.0</td>\n",
              "      <td>black</td>\n",
              "      <td>black</td>\n",
              "      <td>11900</td>\n",
              "      <td>9800</td>\n",
              "    </tr>\n",
              "  </tbody>\n",
              "</table>\n",
              "</div>"
            ],
            "text/plain": [
              "   year       make    model   trim  ...  color interior    mmr  sellingprice\n",
              "0  2015        Kia  Sorento     LX  ...  white    black  20500         21500\n",
              "1  2015        Kia  Sorento     LX  ...  white    beige  20800         21500\n",
              "3  2015      Volvo      S60     T5  ...  white    black  27500         27750\n",
              "5  2015     Nissan   Altima  2.5 S  ...   gray    black  15350         10900\n",
              "7  2014  Chevrolet    Cruze    1LT  ...  black    black  11900          9800\n",
              "\n",
              "[5 rows x 13 columns]"
            ]
          },
          "metadata": {
            "tags": []
          },
          "execution_count": 343
        }
      ]
    },
    {
      "cell_type": "markdown",
      "metadata": {
        "id": "BVHvxIfxKbrt"
      },
      "source": [
        "### Outliers"
      ]
    },
    {
      "cell_type": "markdown",
      "metadata": {
        "id": "OyIuMb2ILlYI"
      },
      "source": [
        "Continuous Variables at focus: odometer, mmr, sellingprice\n",
        "\n",
        "Outliers affect the average (median/mean) therefore it's important that we remove them.\n",
        "\n"
      ]
    },
    {
      "cell_type": "code",
      "metadata": {
        "colab": {
          "base_uri": "https://localhost:8080/",
          "height": 360
        },
        "id": "UytASoih4KO3",
        "outputId": "39efcfbc-8f6c-4a51-d9a4-d4e33c8b7232"
      },
      "source": [
        "fig, ax = plt.subplots(1, 3, figsize=(15, 5))\n",
        "#fig.tight_layout(pad=3)\n",
        "\n",
        "ax[0].hist(car_df['odometer'])\n",
        "ax[0].set_title('Odometer')\n",
        "ax[0].tick_params(axis='x', rotation=45)\n",
        "\n",
        "ax[1].hist(car_df['sellingprice'])\n",
        "ax[1].set_title('Selling Price')\n",
        "ax[1].tick_params(axis='x', rotation=45)\n",
        "\n",
        "ax[2].hist(car_df['mmr'])\n",
        "ax[2].set_title('MMR')\n",
        "ax[2].tick_params(axis='x', rotation=45)"
      ],
      "execution_count": 344,
      "outputs": [
        {
          "output_type": "display_data",
          "data": {
            "image/png": "[encoded data removed]",
            "text/plain": [
              "<Figure size 1080x360 with 3 Axes>"
            ]
          },
          "metadata": {
            "tags": [],
            "needs_background": "light"
          }
        }
      ]
    },
    {
      "cell_type": "markdown",
      "metadata": {
        "id": "VxiudtihmD07"
      },
      "source": [
        "We see that these variables have a right skew"
      ]
    },
    {
      "cell_type": "code",
      "metadata": {
        "colab": {
          "base_uri": "https://localhost:8080/"
        },
        "id": "cNildnpBSS0z",
        "outputId": "475c48d1-10c5-4604-a9ca-b194bc44b9de"
      },
      "source": [
        "print(stats.describe(car_df['odometer']))\n",
        "print(stats.describe(car_df['sellingprice']))\n",
        "print(stats.describe(car_df['mmr']))"
      ],
      "execution_count": 345,
      "outputs": [
        {
          "output_type": "stream",
          "text": [
            "DescribeResult(nobs=400823, minmax=(1.0, 999999.0), mean=66409.77875022142, variance=2635762590.4620185, skewness=1.956470968915975, kurtosis=15.825179117105758)\n",
            "DescribeResult(nobs=400823, minmax=(1, 230000), mean=13328.628342185952, variance=74377315.74222349, skewness=1.327993180787359, kurtosis=5.140559120467861)\n",
            "DescribeResult(nobs=400823, minmax=(25, 146000), mean=13478.07136816001, variance=72630996.41995811, skewness=1.3183153293615317, kurtosis=4.291288945865258)\n"
          ],
          "name": "stdout"
        }
      ]
    },
    {
      "cell_type": "markdown",
      "metadata": {
        "id": "DwFfvPy4mc4m"
      },
      "source": [
        "#### Handling Outliers"
      ]
    },
    {
      "cell_type": "code",
      "metadata": {
        "id": "LXJUdAwLMRB7"
      },
      "source": [
        "car_df = car_df[car_df['odometer'] < 300000]"
      ],
      "execution_count": 346,
      "outputs": []
    },
    {
      "cell_type": "code",
      "metadata": {
        "colab": {
          "base_uri": "https://localhost:8080/",
          "height": 265
        },
        "id": "Jjd7KDE5Ot1B",
        "outputId": "30ab7beb-bb97-4c2a-ee9b-626696437578"
      },
      "source": [
        "plt.hist(car_df['odometer'])\n",
        "plt.show()"
      ],
      "execution_count": 347,
      "outputs": [
        {
          "output_type": "display_data",
          "data": {
            "image/png": "[encoded data removed]",
            "text/plain": [
              "<Figure size 432x288 with 1 Axes>"
            ]
          },
          "metadata": {
            "tags": [],
            "needs_background": "light"
          }
        }
      ]
    },
    {
      "cell_type": "markdown",
      "metadata": {
        "id": "kCnmzhXAmjMX"
      },
      "source": [
        "I removed any rows which had 300K+ values or more."
      ]
    },
    {
      "cell_type": "code",
      "metadata": {
        "id": "orBcrWyyQyJP"
      },
      "source": [
        "car_df = car_df[car_df['sellingprice'] < 100000]"
      ],
      "execution_count": 348,
      "outputs": []
    },
    {
      "cell_type": "code",
      "metadata": {
        "colab": {
          "base_uri": "https://localhost:8080/",
          "height": 265
        },
        "id": "tEj6D0I1NLpe",
        "outputId": "be5ddceb-1e28-4329-a457-175401bd4000"
      },
      "source": [
        "plt.hist(car_df['sellingprice'])\n",
        "plt.show()"
      ],
      "execution_count": 349,
      "outputs": [
        {
          "output_type": "display_data",
          "data": {
            "image/png": "[encoded data removed]",
            "text/plain": [
              "<Figure size 432x288 with 1 Axes>"
            ]
          },
          "metadata": {
            "tags": [],
            "needs_background": "light"
          }
        }
      ]
    },
    {
      "cell_type": "markdown",
      "metadata": {
        "id": "qMlCtYlFm2gM"
      },
      "source": [
        "As with the odometer, I removed any rows which had 100k values or more."
      ]
    },
    {
      "cell_type": "markdown",
      "metadata": {
        "id": "la10IPAi_J-9"
      },
      "source": [
        "### Group: Make & Model"
      ]
    },
    {
      "cell_type": "markdown",
      "metadata": {
        "id": "P_b4jouYnOjB"
      },
      "source": [
        "To get rid of random combination between make and model, I combine these two variables."
      ]
    },
    {
      "cell_type": "code",
      "metadata": {
        "id": "-R7uy24z_Je8"
      },
      "source": [
        "car_df['make_model'] = car_df['make'] + ' ' + car_df['model']"
      ],
      "execution_count": 350,
      "outputs": []
    },
    {
      "cell_type": "code",
      "metadata": {
        "id": "I1fzYB1qDuJx"
      },
      "source": [
        "car_df.drop(columns=['make', 'model'], inplace=True)"
      ],
      "execution_count": 351,
      "outputs": []
    },
    {
      "cell_type": "code",
      "metadata": {
        "id": "M2s88eFNAvkT"
      },
      "source": [
        "car_df = car_df.groupby('make_model').filter(lambda x : len(x)>1000)"
      ],
      "execution_count": 352,
      "outputs": []
    },
    {
      "cell_type": "code",
      "metadata": {
        "id": "_84fFKOqbU0Z"
      },
      "source": [
        "for blank in car_df.columns:\n",
        "  car_df[blank] = car_df[blank].replace('', np.nan)"
      ],
      "execution_count": 353,
      "outputs": []
    },
    {
      "cell_type": "markdown",
      "metadata": {
        "id": "Uv1XkLFbX5li"
      },
      "source": [
        "## Exploratory Data Analysis"
      ]
    },
    {
      "cell_type": "markdown",
      "metadata": {
        "id": "g_p-qRltYKtb"
      },
      "source": [
        "#### Univariate Analysis"
      ]
    },
    {
      "cell_type": "markdown",
      "metadata": {
        "id": "sRdof7Gwnca1"
      },
      "source": [
        "The number of rows has now dwindled since I first loaded in the raw data"
      ]
    },
    {
      "cell_type": "code",
      "metadata": {
        "colab": {
          "base_uri": "https://localhost:8080/"
        },
        "id": "jSsMhGP2XnR3",
        "outputId": "56c8ff08-e961-471b-fb32-8c020ebe46ab"
      },
      "source": [
        "car_df.shape"
      ],
      "execution_count": 354,
      "outputs": [
        {
          "output_type": "execute_result",
          "data": {
            "text/plain": [
              "(310116, 12)"
            ]
          },
          "metadata": {
            "tags": []
          },
          "execution_count": 354
        }
      ]
    },
    {
      "cell_type": "markdown",
      "metadata": {
        "id": "gMlH5mAgoCr8"
      },
      "source": [
        "#### Descriptive Stats"
      ]
    },
    {
      "cell_type": "code",
      "metadata": {
        "colab": {
          "base_uri": "https://localhost:8080/",
          "height": 297
        },
        "id": "zmStWrv1YTxM",
        "outputId": "bb02f94b-6c7d-423e-ad3c-a68875392963"
      },
      "source": [
        "car_df.describe()"
      ],
      "execution_count": 355,
      "outputs": [
        {
          "output_type": "execute_result",
          "data": {
            "text/html": [
              "<div>\n",
              "<style scoped>\n",
              "    .dataframe tbody tr th:only-of-type {\n",
              "        vertical-align: middle;\n",
              "    }\n",
              "\n",
              "    .dataframe tbody tr th {\n",
              "        vertical-align: top;\n",
              "    }\n",
              "\n",
              "    .dataframe thead th {\n",
              "        text-align: right;\n",
              "    }\n",
              "</style>\n",
              "<table border=\"1\" class=\"dataframe\">\n",
              "  <thead>\n",
              "    <tr style=\"text-align: right;\">\n",
              "      <th></th>\n",
              "      <th>year</th>\n",
              "      <th>condition</th>\n",
              "      <th>odometer</th>\n",
              "      <th>mmr</th>\n",
              "      <th>sellingprice</th>\n",
              "    </tr>\n",
              "  </thead>\n",
              "  <tbody>\n",
              "    <tr>\n",
              "      <th>count</th>\n",
              "      <td>310116.000000</td>\n",
              "      <td>310116.000000</td>\n",
              "      <td>310116.000000</td>\n",
              "      <td>310116.000000</td>\n",
              "      <td>310116.000000</td>\n",
              "    </tr>\n",
              "    <tr>\n",
              "      <th>mean</th>\n",
              "      <td>2010.688294</td>\n",
              "      <td>3.457112</td>\n",
              "      <td>62732.602500</td>\n",
              "      <td>13357.086300</td>\n",
              "      <td>13204.851146</td>\n",
              "    </tr>\n",
              "    <tr>\n",
              "      <th>std</th>\n",
              "      <td>3.475487</td>\n",
              "      <td>0.924978</td>\n",
              "      <td>47972.784634</td>\n",
              "      <td>7616.119083</td>\n",
              "      <td>7730.320577</td>\n",
              "    </tr>\n",
              "    <tr>\n",
              "      <th>min</th>\n",
              "      <td>1990.000000</td>\n",
              "      <td>1.000000</td>\n",
              "      <td>1.000000</td>\n",
              "      <td>25.000000</td>\n",
              "      <td>1.000000</td>\n",
              "    </tr>\n",
              "    <tr>\n",
              "      <th>25%</th>\n",
              "      <td>2009.000000</td>\n",
              "      <td>2.800000</td>\n",
              "      <td>27598.000000</td>\n",
              "      <td>8300.000000</td>\n",
              "      <td>8000.000000</td>\n",
              "    </tr>\n",
              "    <tr>\n",
              "      <th>50%</th>\n",
              "      <td>2012.000000</td>\n",
              "      <td>3.600000</td>\n",
              "      <td>47126.500000</td>\n",
              "      <td>12300.000000</td>\n",
              "      <td>12200.000000</td>\n",
              "    </tr>\n",
              "    <tr>\n",
              "      <th>75%</th>\n",
              "      <td>2013.000000</td>\n",
              "      <td>4.200000</td>\n",
              "      <td>88728.000000</td>\n",
              "      <td>17300.000000</td>\n",
              "      <td>17200.000000</td>\n",
              "    </tr>\n",
              "    <tr>\n",
              "      <th>max</th>\n",
              "      <td>2015.000000</td>\n",
              "      <td>5.000000</td>\n",
              "      <td>299999.000000</td>\n",
              "      <td>72000.000000</td>\n",
              "      <td>79000.000000</td>\n",
              "    </tr>\n",
              "  </tbody>\n",
              "</table>\n",
              "</div>"
            ],
            "text/plain": [
              "                year      condition  ...            mmr   sellingprice\n",
              "count  310116.000000  310116.000000  ...  310116.000000  310116.000000\n",
              "mean     2010.688294       3.457112  ...   13357.086300   13204.851146\n",
              "std         3.475487       0.924978  ...    7616.119083    7730.320577\n",
              "min      1990.000000       1.000000  ...      25.000000       1.000000\n",
              "25%      2009.000000       2.800000  ...    8300.000000    8000.000000\n",
              "50%      2012.000000       3.600000  ...   12300.000000   12200.000000\n",
              "75%      2013.000000       4.200000  ...   17300.000000   17200.000000\n",
              "max      2015.000000       5.000000  ...   72000.000000   79000.000000\n",
              "\n",
              "[8 rows x 5 columns]"
            ]
          },
          "metadata": {
            "tags": []
          },
          "execution_count": 355
        }
      ]
    },
    {
      "cell_type": "code",
      "metadata": {
        "colab": {
          "base_uri": "https://localhost:8080/",
          "height": 173
        },
        "id": "ndaCyRJIYg8N",
        "outputId": "054ad8a2-dd3a-4e81-f3d1-7a946575056e"
      },
      "source": [
        "car_df.describe(include=['O'])"
      ],
      "execution_count": 356,
      "outputs": [
        {
          "output_type": "execute_result",
          "data": {
            "text/html": [
              "<div>\n",
              "<style scoped>\n",
              "    .dataframe tbody tr th:only-of-type {\n",
              "        vertical-align: middle;\n",
              "    }\n",
              "\n",
              "    .dataframe tbody tr th {\n",
              "        vertical-align: top;\n",
              "    }\n",
              "\n",
              "    .dataframe thead th {\n",
              "        text-align: right;\n",
              "    }\n",
              "</style>\n",
              "<table border=\"1\" class=\"dataframe\">\n",
              "  <thead>\n",
              "    <tr style=\"text-align: right;\">\n",
              "      <th></th>\n",
              "      <th>trim</th>\n",
              "      <th>body</th>\n",
              "      <th>transmission</th>\n",
              "      <th>state</th>\n",
              "      <th>color</th>\n",
              "      <th>interior</th>\n",
              "      <th>make_model</th>\n",
              "    </tr>\n",
              "  </thead>\n",
              "  <tbody>\n",
              "    <tr>\n",
              "      <th>count</th>\n",
              "      <td>310116</td>\n",
              "      <td>310116</td>\n",
              "      <td>310116</td>\n",
              "      <td>310116</td>\n",
              "      <td>310116</td>\n",
              "      <td>310116</td>\n",
              "      <td>310116</td>\n",
              "    </tr>\n",
              "    <tr>\n",
              "      <th>unique</th>\n",
              "      <td>249</td>\n",
              "      <td>17</td>\n",
              "      <td>2</td>\n",
              "      <td>32</td>\n",
              "      <td>17</td>\n",
              "      <td>15</td>\n",
              "      <td>100</td>\n",
              "    </tr>\n",
              "    <tr>\n",
              "      <th>top</th>\n",
              "      <td>SE</td>\n",
              "      <td>Sedan</td>\n",
              "      <td>automatic</td>\n",
              "      <td>FL</td>\n",
              "      <td>black</td>\n",
              "      <td>black</td>\n",
              "      <td>Nissan Altima</td>\n",
              "    </tr>\n",
              "    <tr>\n",
              "      <th>freq</th>\n",
              "      <td>31244</td>\n",
              "      <td>155878</td>\n",
              "      <td>302090</td>\n",
              "      <td>48348</td>\n",
              "      <td>63791</td>\n",
              "      <td>144096</td>\n",
              "      <td>14912</td>\n",
              "    </tr>\n",
              "  </tbody>\n",
              "</table>\n",
              "</div>"
            ],
            "text/plain": [
              "          trim    body transmission   state   color interior     make_model\n",
              "count   310116  310116       310116  310116  310116   310116         310116\n",
              "unique     249      17            2      32      17       15            100\n",
              "top         SE   Sedan    automatic      FL   black    black  Nissan Altima\n",
              "freq     31244  155878       302090   48348   63791   144096          14912"
            ]
          },
          "metadata": {
            "tags": []
          },
          "execution_count": 356
        }
      ]
    },
    {
      "cell_type": "markdown",
      "metadata": {
        "id": "S5UOzVbcoOj6"
      },
      "source": [
        "The trim may have too many categories, so we need to decide whether to drop it or not later"
      ]
    },
    {
      "cell_type": "code",
      "metadata": {
        "colab": {
          "base_uri": "https://localhost:8080/",
          "height": 272
        },
        "id": "OqKVcS84JsPn",
        "outputId": "221336ec-e30f-4bde-d977-36fd78ba2382"
      },
      "source": [
        "car_df.head()"
      ],
      "execution_count": 357,
      "outputs": [
        {
          "output_type": "execute_result",
          "data": {
            "text/html": [
              "<div>\n",
              "<style scoped>\n",
              "    .dataframe tbody tr th:only-of-type {\n",
              "        vertical-align: middle;\n",
              "    }\n",
              "\n",
              "    .dataframe tbody tr th {\n",
              "        vertical-align: top;\n",
              "    }\n",
              "\n",
              "    .dataframe thead th {\n",
              "        text-align: right;\n",
              "    }\n",
              "</style>\n",
              "<table border=\"1\" class=\"dataframe\">\n",
              "  <thead>\n",
              "    <tr style=\"text-align: right;\">\n",
              "      <th></th>\n",
              "      <th>year</th>\n",
              "      <th>trim</th>\n",
              "      <th>body</th>\n",
              "      <th>transmission</th>\n",
              "      <th>state</th>\n",
              "      <th>condition</th>\n",
              "      <th>odometer</th>\n",
              "      <th>color</th>\n",
              "      <th>interior</th>\n",
              "      <th>mmr</th>\n",
              "      <th>sellingprice</th>\n",
              "      <th>make_model</th>\n",
              "    </tr>\n",
              "  </thead>\n",
              "  <tbody>\n",
              "    <tr>\n",
              "      <th>0</th>\n",
              "      <td>2015</td>\n",
              "      <td>LX</td>\n",
              "      <td>Suv</td>\n",
              "      <td>automatic</td>\n",
              "      <td>CA</td>\n",
              "      <td>5.0</td>\n",
              "      <td>16639.0</td>\n",
              "      <td>white</td>\n",
              "      <td>black</td>\n",
              "      <td>20500</td>\n",
              "      <td>21500</td>\n",
              "      <td>Kia Sorento</td>\n",
              "    </tr>\n",
              "    <tr>\n",
              "      <th>1</th>\n",
              "      <td>2015</td>\n",
              "      <td>LX</td>\n",
              "      <td>Suv</td>\n",
              "      <td>automatic</td>\n",
              "      <td>CA</td>\n",
              "      <td>5.0</td>\n",
              "      <td>9393.0</td>\n",
              "      <td>white</td>\n",
              "      <td>beige</td>\n",
              "      <td>20800</td>\n",
              "      <td>21500</td>\n",
              "      <td>Kia Sorento</td>\n",
              "    </tr>\n",
              "    <tr>\n",
              "      <th>5</th>\n",
              "      <td>2015</td>\n",
              "      <td>2.5 S</td>\n",
              "      <td>Sedan</td>\n",
              "      <td>automatic</td>\n",
              "      <td>CA</td>\n",
              "      <td>1.0</td>\n",
              "      <td>5554.0</td>\n",
              "      <td>gray</td>\n",
              "      <td>black</td>\n",
              "      <td>15350</td>\n",
              "      <td>10900</td>\n",
              "      <td>Nissan Altima</td>\n",
              "    </tr>\n",
              "    <tr>\n",
              "      <th>7</th>\n",
              "      <td>2014</td>\n",
              "      <td>1LT</td>\n",
              "      <td>Sedan</td>\n",
              "      <td>automatic</td>\n",
              "      <td>CA</td>\n",
              "      <td>2.0</td>\n",
              "      <td>28617.0</td>\n",
              "      <td>black</td>\n",
              "      <td>black</td>\n",
              "      <td>11900</td>\n",
              "      <td>9800</td>\n",
              "      <td>Chevrolet Cruze</td>\n",
              "    </tr>\n",
              "    <tr>\n",
              "      <th>8</th>\n",
              "      <td>2014</td>\n",
              "      <td>2.0T PREMIUM PLUS QUATTRO</td>\n",
              "      <td>Sedan</td>\n",
              "      <td>automatic</td>\n",
              "      <td>CA</td>\n",
              "      <td>4.2</td>\n",
              "      <td>9557.0</td>\n",
              "      <td>white</td>\n",
              "      <td>black</td>\n",
              "      <td>32100</td>\n",
              "      <td>32250</td>\n",
              "      <td>Audi A4</td>\n",
              "    </tr>\n",
              "  </tbody>\n",
              "</table>\n",
              "</div>"
            ],
            "text/plain": [
              "   year                       trim   body  ...    mmr sellingprice       make_model\n",
              "0  2015                         LX    Suv  ...  20500        21500      Kia Sorento\n",
              "1  2015                         LX    Suv  ...  20800        21500      Kia Sorento\n",
              "5  2015                      2.5 S  Sedan  ...  15350        10900    Nissan Altima\n",
              "7  2014                        1LT  Sedan  ...  11900         9800  Chevrolet Cruze\n",
              "8  2014  2.0T PREMIUM PLUS QUATTRO  Sedan  ...  32100        32250          Audi A4\n",
              "\n",
              "[5 rows x 12 columns]"
            ]
          },
          "metadata": {
            "tags": []
          },
          "execution_count": 357
        }
      ]
    },
    {
      "cell_type": "code",
      "metadata": {
        "colab": {
          "base_uri": "https://localhost:8080/",
          "height": 298
        },
        "id": "e4Ibz-UVeOF4",
        "outputId": "70c86e15-d933-43e5-8547-575afc8aa73a"
      },
      "source": [
        "plt.hist(car_df['year'])\n",
        "plt.title('Histogram of Year')"
      ],
      "execution_count": 358,
      "outputs": [
        {
          "output_type": "execute_result",
          "data": {
            "text/plain": [
              "Text(0.5, 1.0, 'Histogram of Year')"
            ]
          },
          "metadata": {
            "tags": []
          },
          "execution_count": 358
        },
        {
          "output_type": "display_data",
          "data": {
            "image/png": "[encoded data removed]",
            "text/plain": [
              "<Figure size 432x288 with 1 Axes>"
            ]
          },
          "metadata": {
            "tags": [],
            "needs_background": "light"
          }
        }
      ]
    },
    {
      "cell_type": "markdown",
      "metadata": {
        "id": "KDD3Qt48obQs"
      },
      "source": [
        "Most of the cars in the dataset are modern, will need to remove older cars. "
      ]
    },
    {
      "cell_type": "code",
      "metadata": {
        "id": "6jUBCm7VpZyP",
        "colab": {
          "base_uri": "https://localhost:8080/"
        },
        "outputId": "4020c94d-43b3-4e15-965a-13f7f77e8d9e"
      },
      "source": [
        "car_df['year'].value_counts()"
      ],
      "execution_count": 359,
      "outputs": [
        {
          "output_type": "execute_result",
          "data": {
            "text/plain": [
              "2012    64523\n",
              "2013    64449\n",
              "2014    48107\n",
              "2011    29043\n",
              "2008    15603\n",
              "2010    14975\n",
              "2007    14682\n",
              "2006    11533\n",
              "2009    11279\n",
              "2005     9169\n",
              "2004     6528\n",
              "2003     5356\n",
              "2015     4774\n",
              "2002     3562\n",
              "2001     2333\n",
              "2000     1402\n",
              "1999      897\n",
              "1998      672\n",
              "1997      489\n",
              "1996      268\n",
              "1995      215\n",
              "1994      139\n",
              "1993       54\n",
              "1992       31\n",
              "1991       23\n",
              "1990       10\n",
              "Name: year, dtype: int64"
            ]
          },
          "metadata": {
            "tags": []
          },
          "execution_count": 359
        }
      ]
    },
    {
      "cell_type": "code",
      "metadata": {
        "colab": {
          "base_uri": "https://localhost:8080/",
          "height": 607
        },
        "id": "iNvXl7D_YrYT",
        "outputId": "40c4bf68-091f-4c78-df63-7ffff5d3ecbb"
      },
      "source": [
        "plt.figure(figsize=(10,10))\n",
        "plt.barh(car_df.groupby(\"state\")[\"state\"].count().index, \n",
        "         car_df.groupby(\"state\")[\"state\"].count())\n",
        "plt.title(\"horizontal bar chart of the Make\")\n",
        "plt.show()"
      ],
      "execution_count": 360,
      "outputs": [
        {
          "output_type": "display_data",
          "data": {
            "image/png": "[encoded data removed]",
            "text/plain": [
              "<Figure size 720x720 with 1 Axes>"
            ]
          },
          "metadata": {
            "tags": [],
            "needs_background": "light"
          }
        }
      ]
    },
    {
      "cell_type": "code",
      "metadata": {
        "colab": {
          "base_uri": "https://localhost:8080/",
          "height": 336
        },
        "id": "GtvWKNWvaLdL",
        "outputId": "65569cb8-40c5-4707-d314-092d1987a70c"
      },
      "source": [
        "plt.figure(figsize=(10,5))\n",
        "plt.barh(car_df.groupby(\"body\")[\"body\"].count().index, \n",
        "         car_df.groupby(\"body\")[\"body\"].count())\n",
        "plt.title(\"horizontal bar chart of the Make\")\n",
        "plt.show()"
      ],
      "execution_count": 361,
      "outputs": [
        {
          "output_type": "display_data",
          "data": {
            "image/png": "[encoded data removed]",
            "text/plain": [
              "<Figure size 720x360 with 1 Axes>"
            ]
          },
          "metadata": {
            "tags": [],
            "needs_background": "light"
          }
        }
      ]
    },
    {
      "cell_type": "code",
      "metadata": {
        "colab": {
          "base_uri": "https://localhost:8080/",
          "height": 359
        },
        "id": "ML-tgeZYZl6X",
        "outputId": "3f76f33c-e274-4257-8dfe-5f4226fb347e"
      },
      "source": [
        "plt.figure(figsize=(10,5))\n",
        "plt.barh(car_df.groupby(\"transmission\")[\"transmission\"].count().index, \n",
        "         car_df.groupby(\"transmission\")[\"transmission\"].count())\n",
        "plt.title(\"horizontal bar chart of the Make\")\n",
        "plt.xticks(rotation='45')\n",
        "plt.show()"
      ],
      "execution_count": 362,
      "outputs": [
        {
          "output_type": "display_data",
          "data": {
            "image/png": "[encoded data removed]",
            "text/plain": [
              "<Figure size 720x360 with 1 Axes>"
            ]
          },
          "metadata": {
            "tags": [],
            "needs_background": "light"
          }
        }
      ]
    },
    {
      "cell_type": "code",
      "metadata": {
        "colab": {
          "base_uri": "https://localhost:8080/",
          "height": 310
        },
        "id": "FmPJBiAbaS2g",
        "outputId": "5c55a0cf-b888-4542-8206-b0f7f18081c3"
      },
      "source": [
        "text= ' '.join(car_df['make_model'])\n",
        "wordcloud2 = WordCloud(collocations=False).generate(text)\n",
        "# Generate plot\n",
        "plt.figure(figsize=(10,10))\n",
        "plt.imshow(wordcloud2)\n",
        "plt.axis(\"off\")\n",
        "plt.show()"
      ],
      "execution_count": 363,
      "outputs": [
        {
          "output_type": "display_data",
          "data": {
            "image/png": "[encoded data removed]",
            "text/plain": [
              "<Figure size 720x720 with 1 Axes>"
            ]
          },
          "metadata": {
            "tags": [],
            "needs_background": "light"
          }
        }
      ]
    },
    {
      "cell_type": "code",
      "metadata": {
        "colab": {
          "base_uri": "https://localhost:8080/",
          "height": 303
        },
        "id": "Agu6-vI3af7r",
        "outputId": "ce19ae2a-f5ef-4928-8ad0-45035efd30ad"
      },
      "source": [
        "text3 = ' '.join(car_df['trim'])\n",
        "wordcloud2 = WordCloud(collocations=False).generate(text3)\n",
        "# Generate plot\n",
        "plt.figure(figsize=(10,5))\n",
        "plt.imshow(wordcloud2)\n",
        "plt.axis(\"off\")\n",
        "plt.show()"
      ],
      "execution_count": 364,
      "outputs": [
        {
          "output_type": "display_data",
          "data": {
            "image/png": "[encoded data removed]",
            "text/plain": [
              "<Figure size 720x360 with 1 Axes>"
            ]
          },
          "metadata": {
            "tags": [],
            "needs_background": "light"
          }
        }
      ]
    },
    {
      "cell_type": "markdown",
      "metadata": {
        "id": "DK37CCRnc6nN"
      },
      "source": [
        "#### Bivariate Analysis"
      ]
    },
    {
      "cell_type": "code",
      "metadata": {
        "colab": {
          "base_uri": "https://localhost:8080/",
          "height": 345
        },
        "id": "LSoAZlQVcBx-",
        "outputId": "d5512bb9-548e-4dee-9077-acdc180322d6"
      },
      "source": [
        "# Continuous/Continuous\n",
        "\n",
        "plt.figure(figsize=(18,5))\n",
        "\n",
        "plt.subplot(1,2,1)\n",
        "sns.heatmap(car_df.corr(), square=True, annot=True, linewidths=.5)\n",
        "plt.title(\"correlation matrix (Car Auction)\")\n",
        "plt.show()"
      ],
      "execution_count": 365,
      "outputs": [
        {
          "output_type": "display_data",
          "data": {
            "image/png": "[encoded data removed]",
            "text/plain": [
              "<Figure size 1296x360 with 2 Axes>"
            ]
          },
          "metadata": {
            "tags": [],
            "needs_background": "light"
          }
        }
      ]
    },
    {
      "cell_type": "markdown",
      "metadata": {
        "id": "f9cOXaG2eoeF"
      },
      "source": [
        "Most of these have high or moderately high correlation (both positive and negative)\n",
        "\n",
        "Selling price has high correlation with all"
      ]
    },
    {
      "cell_type": "code",
      "metadata": {
        "colab": {
          "base_uri": "https://localhost:8080/",
          "height": 368
        },
        "id": "olgRRJ4Cfn3g",
        "outputId": "4f1ef58a-954b-4b30-df64-874872892b8f"
      },
      "source": [
        "plt.figure(figsize=(18,5))\n",
        "\n",
        "#plt.subplot(1,3,1)\n",
        "sns.barplot(car_df[\"sellingprice\"], car_df[\"state\"])\n",
        "plt.title(\"Selling Price VS State\")\n",
        "plt.show()"
      ],
      "execution_count": 366,
      "outputs": [
        {
          "output_type": "stream",
          "text": [
            "/usr/local/lib/python3.7/dist-packages/seaborn/_decorators.py:43: FutureWarning: Pass the following variables as keyword args: x, y. From version 0.12, the only valid positional argument will be `data`, and passing other arguments without an explicit keyword will result in an error or misinterpretation.\n",
            "  FutureWarning\n"
          ],
          "name": "stderr"
        },
        {
          "output_type": "display_data",
          "data": {
            "image/png": "[encoded data removed]",
            "text/plain": [
              "<Figure size 1296x360 with 1 Axes>"
            ]
          },
          "metadata": {
            "tags": [],
            "needs_background": "light"
          }
        }
      ]
    },
    {
      "cell_type": "markdown",
      "metadata": {
        "id": "jCQ0-9fuHI7B"
      },
      "source": [
        "*   New Mexico has high variance \n",
        "*   Maryland, Virginia, and Massachussetts have the lowest representation\n",
        "*   Half the states are not included\n",
        "*   PR = Puerto Rico"
      ]
    },
    {
      "cell_type": "code",
      "metadata": {
        "colab": {
          "base_uri": "https://localhost:8080/",
          "height": 360
        },
        "id": "rPkEEevUf57o",
        "outputId": "2715ef38-668a-4aee-ace3-9bef23f7539d"
      },
      "source": [
        "plt.figure(figsize=(18,5))\n",
        "\n",
        "#plt.subplot(1,3,1)\n",
        "sns.barplot(car_df[\"sellingprice\"], car_df[\"color\"])\n",
        "plt.title(\"Selling Price VS Color\")\n",
        "plt.show()"
      ],
      "execution_count": 367,
      "outputs": [
        {
          "output_type": "stream",
          "text": [
            "/usr/local/lib/python3.7/dist-packages/seaborn/_decorators.py:43: FutureWarning: Pass the following variables as keyword args: x, y. From version 0.12, the only valid positional argument will be `data`, and passing other arguments without an explicit keyword will result in an error or misinterpretation.\n",
            "  FutureWarning\n"
          ],
          "name": "stderr"
        },
        {
          "output_type": "display_data",
          "data": {
            "image/png": "[encoded data removed]",
            "text/plain": [
              "<Figure size 1296x360 with 1 Axes>"
            ]
          },
          "metadata": {
            "tags": [],
            "needs_background": "light"
          }
        }
      ]
    },
    {
      "cell_type": "markdown",
      "metadata": {
        "id": "Mv1expZWH_iv"
      },
      "source": [
        "*   off-white and white may be considered the same for the user?\n",
        "*   Most of the 'basic' colors are present\n",
        "\n",
        "\n",
        "\n"
      ]
    },
    {
      "cell_type": "markdown",
      "metadata": {
        "id": "xUQYlj7StQxT"
      },
      "source": [
        "## Model Prep"
      ]
    },
    {
      "cell_type": "markdown",
      "metadata": {
        "id": "isgf2gpxIQpB"
      },
      "source": [
        "Before we actually implement the model, we need to view the data again and it's meta information. We need to do this to make sure the columns are the right datatypes as well as see if all the data manipulation has been completed"
      ]
    },
    {
      "cell_type": "code",
      "metadata": {
        "colab": {
          "base_uri": "https://localhost:8080/",
          "height": 272
        },
        "id": "vhX-bqGFXTuB",
        "outputId": "cb8aba07-7065-42ce-acf7-012002b17ff7"
      },
      "source": [
        "car_df.head()"
      ],
      "execution_count": 368,
      "outputs": [
        {
          "output_type": "execute_result",
          "data": {
            "text/html": [
              "<div>\n",
              "<style scoped>\n",
              "    .dataframe tbody tr th:only-of-type {\n",
              "        vertical-align: middle;\n",
              "    }\n",
              "\n",
              "    .dataframe tbody tr th {\n",
              "        vertical-align: top;\n",
              "    }\n",
              "\n",
              "    .dataframe thead th {\n",
              "        text-align: right;\n",
              "    }\n",
              "</style>\n",
              "<table border=\"1\" class=\"dataframe\">\n",
              "  <thead>\n",
              "    <tr style=\"text-align: right;\">\n",
              "      <th></th>\n",
              "      <th>year</th>\n",
              "      <th>trim</th>\n",
              "      <th>body</th>\n",
              "      <th>transmission</th>\n",
              "      <th>state</th>\n",
              "      <th>condition</th>\n",
              "      <th>odometer</th>\n",
              "      <th>color</th>\n",
              "      <th>interior</th>\n",
              "      <th>mmr</th>\n",
              "      <th>sellingprice</th>\n",
              "      <th>make_model</th>\n",
              "    </tr>\n",
              "  </thead>\n",
              "  <tbody>\n",
              "    <tr>\n",
              "      <th>0</th>\n",
              "      <td>2015</td>\n",
              "      <td>LX</td>\n",
              "      <td>Suv</td>\n",
              "      <td>automatic</td>\n",
              "      <td>CA</td>\n",
              "      <td>5.0</td>\n",
              "      <td>16639.0</td>\n",
              "      <td>white</td>\n",
              "      <td>black</td>\n",
              "      <td>20500</td>\n",
              "      <td>21500</td>\n",
              "      <td>Kia Sorento</td>\n",
              "    </tr>\n",
              "    <tr>\n",
              "      <th>1</th>\n",
              "      <td>2015</td>\n",
              "      <td>LX</td>\n",
              "      <td>Suv</td>\n",
              "      <td>automatic</td>\n",
              "      <td>CA</td>\n",
              "      <td>5.0</td>\n",
              "      <td>9393.0</td>\n",
              "      <td>white</td>\n",
              "      <td>beige</td>\n",
              "      <td>20800</td>\n",
              "      <td>21500</td>\n",
              "      <td>Kia Sorento</td>\n",
              "    </tr>\n",
              "    <tr>\n",
              "      <th>5</th>\n",
              "      <td>2015</td>\n",
              "      <td>2.5 S</td>\n",
              "      <td>Sedan</td>\n",
              "      <td>automatic</td>\n",
              "      <td>CA</td>\n",
              "      <td>1.0</td>\n",
              "      <td>5554.0</td>\n",
              "      <td>gray</td>\n",
              "      <td>black</td>\n",
              "      <td>15350</td>\n",
              "      <td>10900</td>\n",
              "      <td>Nissan Altima</td>\n",
              "    </tr>\n",
              "    <tr>\n",
              "      <th>7</th>\n",
              "      <td>2014</td>\n",
              "      <td>1LT</td>\n",
              "      <td>Sedan</td>\n",
              "      <td>automatic</td>\n",
              "      <td>CA</td>\n",
              "      <td>2.0</td>\n",
              "      <td>28617.0</td>\n",
              "      <td>black</td>\n",
              "      <td>black</td>\n",
              "      <td>11900</td>\n",
              "      <td>9800</td>\n",
              "      <td>Chevrolet Cruze</td>\n",
              "    </tr>\n",
              "    <tr>\n",
              "      <th>8</th>\n",
              "      <td>2014</td>\n",
              "      <td>2.0T PREMIUM PLUS QUATTRO</td>\n",
              "      <td>Sedan</td>\n",
              "      <td>automatic</td>\n",
              "      <td>CA</td>\n",
              "      <td>4.2</td>\n",
              "      <td>9557.0</td>\n",
              "      <td>white</td>\n",
              "      <td>black</td>\n",
              "      <td>32100</td>\n",
              "      <td>32250</td>\n",
              "      <td>Audi A4</td>\n",
              "    </tr>\n",
              "  </tbody>\n",
              "</table>\n",
              "</div>"
            ],
            "text/plain": [
              "   year                       trim   body  ...    mmr sellingprice       make_model\n",
              "0  2015                         LX    Suv  ...  20500        21500      Kia Sorento\n",
              "1  2015                         LX    Suv  ...  20800        21500      Kia Sorento\n",
              "5  2015                      2.5 S  Sedan  ...  15350        10900    Nissan Altima\n",
              "7  2014                        1LT  Sedan  ...  11900         9800  Chevrolet Cruze\n",
              "8  2014  2.0T PREMIUM PLUS QUATTRO  Sedan  ...  32100        32250          Audi A4\n",
              "\n",
              "[5 rows x 12 columns]"
            ]
          },
          "metadata": {
            "tags": []
          },
          "execution_count": 368
        }
      ]
    },
    {
      "cell_type": "code",
      "metadata": {
        "colab": {
          "base_uri": "https://localhost:8080/"
        },
        "id": "UeQnJWu8dBzc",
        "outputId": "30410bc9-ec21-4d38-ea48-0f5fab69c7c8"
      },
      "source": [
        "car_df.isnull().sum()*100/car_df.isnull().count()"
      ],
      "execution_count": 369,
      "outputs": [
        {
          "output_type": "execute_result",
          "data": {
            "text/plain": [
              "year            0.0\n",
              "trim            0.0\n",
              "body            0.0\n",
              "transmission    0.0\n",
              "state           0.0\n",
              "condition       0.0\n",
              "odometer        0.0\n",
              "color           0.0\n",
              "interior        0.0\n",
              "mmr             0.0\n",
              "sellingprice    0.0\n",
              "make_model      0.0\n",
              "dtype: float64"
            ]
          },
          "metadata": {
            "tags": []
          },
          "execution_count": 369
        }
      ]
    },
    {
      "cell_type": "markdown",
      "metadata": {
        "id": "K2tMykpkj02R"
      },
      "source": [
        "#### Feature Selection"
      ]
    },
    {
      "cell_type": "code",
      "metadata": {
        "colab": {
          "base_uri": "https://localhost:8080/",
          "height": 272
        },
        "id": "1Nn0M0jrSAab",
        "outputId": "3e1da781-2cbe-4ac8-c79f-dac43783c1ba"
      },
      "source": [
        "car_df.head()"
      ],
      "execution_count": 370,
      "outputs": [
        {
          "output_type": "execute_result",
          "data": {
            "text/html": [
              "<div>\n",
              "<style scoped>\n",
              "    .dataframe tbody tr th:only-of-type {\n",
              "        vertical-align: middle;\n",
              "    }\n",
              "\n",
              "    .dataframe tbody tr th {\n",
              "        vertical-align: top;\n",
              "    }\n",
              "\n",
              "    .dataframe thead th {\n",
              "        text-align: right;\n",
              "    }\n",
              "</style>\n",
              "<table border=\"1\" class=\"dataframe\">\n",
              "  <thead>\n",
              "    <tr style=\"text-align: right;\">\n",
              "      <th></th>\n",
              "      <th>year</th>\n",
              "      <th>trim</th>\n",
              "      <th>body</th>\n",
              "      <th>transmission</th>\n",
              "      <th>state</th>\n",
              "      <th>condition</th>\n",
              "      <th>odometer</th>\n",
              "      <th>color</th>\n",
              "      <th>interior</th>\n",
              "      <th>mmr</th>\n",
              "      <th>sellingprice</th>\n",
              "      <th>make_model</th>\n",
              "    </tr>\n",
              "  </thead>\n",
              "  <tbody>\n",
              "    <tr>\n",
              "      <th>0</th>\n",
              "      <td>2015</td>\n",
              "      <td>LX</td>\n",
              "      <td>Suv</td>\n",
              "      <td>automatic</td>\n",
              "      <td>CA</td>\n",
              "      <td>5.0</td>\n",
              "      <td>16639.0</td>\n",
              "      <td>white</td>\n",
              "      <td>black</td>\n",
              "      <td>20500</td>\n",
              "      <td>21500</td>\n",
              "      <td>Kia Sorento</td>\n",
              "    </tr>\n",
              "    <tr>\n",
              "      <th>1</th>\n",
              "      <td>2015</td>\n",
              "      <td>LX</td>\n",
              "      <td>Suv</td>\n",
              "      <td>automatic</td>\n",
              "      <td>CA</td>\n",
              "      <td>5.0</td>\n",
              "      <td>9393.0</td>\n",
              "      <td>white</td>\n",
              "      <td>beige</td>\n",
              "      <td>20800</td>\n",
              "      <td>21500</td>\n",
              "      <td>Kia Sorento</td>\n",
              "    </tr>\n",
              "    <tr>\n",
              "      <th>5</th>\n",
              "      <td>2015</td>\n",
              "      <td>2.5 S</td>\n",
              "      <td>Sedan</td>\n",
              "      <td>automatic</td>\n",
              "      <td>CA</td>\n",
              "      <td>1.0</td>\n",
              "      <td>5554.0</td>\n",
              "      <td>gray</td>\n",
              "      <td>black</td>\n",
              "      <td>15350</td>\n",
              "      <td>10900</td>\n",
              "      <td>Nissan Altima</td>\n",
              "    </tr>\n",
              "    <tr>\n",
              "      <th>7</th>\n",
              "      <td>2014</td>\n",
              "      <td>1LT</td>\n",
              "      <td>Sedan</td>\n",
              "      <td>automatic</td>\n",
              "      <td>CA</td>\n",
              "      <td>2.0</td>\n",
              "      <td>28617.0</td>\n",
              "      <td>black</td>\n",
              "      <td>black</td>\n",
              "      <td>11900</td>\n",
              "      <td>9800</td>\n",
              "      <td>Chevrolet Cruze</td>\n",
              "    </tr>\n",
              "    <tr>\n",
              "      <th>8</th>\n",
              "      <td>2014</td>\n",
              "      <td>2.0T PREMIUM PLUS QUATTRO</td>\n",
              "      <td>Sedan</td>\n",
              "      <td>automatic</td>\n",
              "      <td>CA</td>\n",
              "      <td>4.2</td>\n",
              "      <td>9557.0</td>\n",
              "      <td>white</td>\n",
              "      <td>black</td>\n",
              "      <td>32100</td>\n",
              "      <td>32250</td>\n",
              "      <td>Audi A4</td>\n",
              "    </tr>\n",
              "  </tbody>\n",
              "</table>\n",
              "</div>"
            ],
            "text/plain": [
              "   year                       trim   body  ...    mmr sellingprice       make_model\n",
              "0  2015                         LX    Suv  ...  20500        21500      Kia Sorento\n",
              "1  2015                         LX    Suv  ...  20800        21500      Kia Sorento\n",
              "5  2015                      2.5 S  Sedan  ...  15350        10900    Nissan Altima\n",
              "7  2014                        1LT  Sedan  ...  11900         9800  Chevrolet Cruze\n",
              "8  2014  2.0T PREMIUM PLUS QUATTRO  Sedan  ...  32100        32250          Audi A4\n",
              "\n",
              "[5 rows x 12 columns]"
            ]
          },
          "metadata": {
            "tags": []
          },
          "execution_count": 370
        }
      ]
    },
    {
      "cell_type": "code",
      "metadata": {
        "colab": {
          "base_uri": "https://localhost:8080/",
          "height": 272
        },
        "id": "f3MtTxLCSddr",
        "outputId": "71bdba2e-639a-4203-fd34-31a3353921df"
      },
      "source": [
        "car_df.head()"
      ],
      "execution_count": 371,
      "outputs": [
        {
          "output_type": "execute_result",
          "data": {
            "text/html": [
              "<div>\n",
              "<style scoped>\n",
              "    .dataframe tbody tr th:only-of-type {\n",
              "        vertical-align: middle;\n",
              "    }\n",
              "\n",
              "    .dataframe tbody tr th {\n",
              "        vertical-align: top;\n",
              "    }\n",
              "\n",
              "    .dataframe thead th {\n",
              "        text-align: right;\n",
              "    }\n",
              "</style>\n",
              "<table border=\"1\" class=\"dataframe\">\n",
              "  <thead>\n",
              "    <tr style=\"text-align: right;\">\n",
              "      <th></th>\n",
              "      <th>year</th>\n",
              "      <th>trim</th>\n",
              "      <th>body</th>\n",
              "      <th>transmission</th>\n",
              "      <th>state</th>\n",
              "      <th>condition</th>\n",
              "      <th>odometer</th>\n",
              "      <th>color</th>\n",
              "      <th>interior</th>\n",
              "      <th>mmr</th>\n",
              "      <th>sellingprice</th>\n",
              "      <th>make_model</th>\n",
              "    </tr>\n",
              "  </thead>\n",
              "  <tbody>\n",
              "    <tr>\n",
              "      <th>0</th>\n",
              "      <td>2015</td>\n",
              "      <td>LX</td>\n",
              "      <td>Suv</td>\n",
              "      <td>automatic</td>\n",
              "      <td>CA</td>\n",
              "      <td>5.0</td>\n",
              "      <td>16639.0</td>\n",
              "      <td>white</td>\n",
              "      <td>black</td>\n",
              "      <td>20500</td>\n",
              "      <td>21500</td>\n",
              "      <td>Kia Sorento</td>\n",
              "    </tr>\n",
              "    <tr>\n",
              "      <th>1</th>\n",
              "      <td>2015</td>\n",
              "      <td>LX</td>\n",
              "      <td>Suv</td>\n",
              "      <td>automatic</td>\n",
              "      <td>CA</td>\n",
              "      <td>5.0</td>\n",
              "      <td>9393.0</td>\n",
              "      <td>white</td>\n",
              "      <td>beige</td>\n",
              "      <td>20800</td>\n",
              "      <td>21500</td>\n",
              "      <td>Kia Sorento</td>\n",
              "    </tr>\n",
              "    <tr>\n",
              "      <th>5</th>\n",
              "      <td>2015</td>\n",
              "      <td>2.5 S</td>\n",
              "      <td>Sedan</td>\n",
              "      <td>automatic</td>\n",
              "      <td>CA</td>\n",
              "      <td>1.0</td>\n",
              "      <td>5554.0</td>\n",
              "      <td>gray</td>\n",
              "      <td>black</td>\n",
              "      <td>15350</td>\n",
              "      <td>10900</td>\n",
              "      <td>Nissan Altima</td>\n",
              "    </tr>\n",
              "    <tr>\n",
              "      <th>7</th>\n",
              "      <td>2014</td>\n",
              "      <td>1LT</td>\n",
              "      <td>Sedan</td>\n",
              "      <td>automatic</td>\n",
              "      <td>CA</td>\n",
              "      <td>2.0</td>\n",
              "      <td>28617.0</td>\n",
              "      <td>black</td>\n",
              "      <td>black</td>\n",
              "      <td>11900</td>\n",
              "      <td>9800</td>\n",
              "      <td>Chevrolet Cruze</td>\n",
              "    </tr>\n",
              "    <tr>\n",
              "      <th>8</th>\n",
              "      <td>2014</td>\n",
              "      <td>2.0T PREMIUM PLUS QUATTRO</td>\n",
              "      <td>Sedan</td>\n",
              "      <td>automatic</td>\n",
              "      <td>CA</td>\n",
              "      <td>4.2</td>\n",
              "      <td>9557.0</td>\n",
              "      <td>white</td>\n",
              "      <td>black</td>\n",
              "      <td>32100</td>\n",
              "      <td>32250</td>\n",
              "      <td>Audi A4</td>\n",
              "    </tr>\n",
              "  </tbody>\n",
              "</table>\n",
              "</div>"
            ],
            "text/plain": [
              "   year                       trim   body  ...    mmr sellingprice       make_model\n",
              "0  2015                         LX    Suv  ...  20500        21500      Kia Sorento\n",
              "1  2015                         LX    Suv  ...  20800        21500      Kia Sorento\n",
              "5  2015                      2.5 S  Sedan  ...  15350        10900    Nissan Altima\n",
              "7  2014                        1LT  Sedan  ...  11900         9800  Chevrolet Cruze\n",
              "8  2014  2.0T PREMIUM PLUS QUATTRO  Sedan  ...  32100        32250          Audi A4\n",
              "\n",
              "[5 rows x 12 columns]"
            ]
          },
          "metadata": {
            "tags": []
          },
          "execution_count": 371
        }
      ]
    },
    {
      "cell_type": "code",
      "metadata": {
        "id": "msCgTYPJk8pH"
      },
      "source": [
        "car_df.drop(columns=['trim', 'mmr'], inplace=True)"
      ],
      "execution_count": 372,
      "outputs": []
    },
    {
      "cell_type": "code",
      "metadata": {
        "colab": {
          "base_uri": "https://localhost:8080/",
          "height": 204
        },
        "id": "GJrR63ETSb6O",
        "outputId": "b05e3b8f-219e-4f0a-8776-f63f712e6499"
      },
      "source": [
        "car_df.head()"
      ],
      "execution_count": 373,
      "outputs": [
        {
          "output_type": "execute_result",
          "data": {
            "text/html": [
              "<div>\n",
              "<style scoped>\n",
              "    .dataframe tbody tr th:only-of-type {\n",
              "        vertical-align: middle;\n",
              "    }\n",
              "\n",
              "    .dataframe tbody tr th {\n",
              "        vertical-align: top;\n",
              "    }\n",
              "\n",
              "    .dataframe thead th {\n",
              "        text-align: right;\n",
              "    }\n",
              "</style>\n",
              "<table border=\"1\" class=\"dataframe\">\n",
              "  <thead>\n",
              "    <tr style=\"text-align: right;\">\n",
              "      <th></th>\n",
              "      <th>year</th>\n",
              "      <th>body</th>\n",
              "      <th>transmission</th>\n",
              "      <th>state</th>\n",
              "      <th>condition</th>\n",
              "      <th>odometer</th>\n",
              "      <th>color</th>\n",
              "      <th>interior</th>\n",
              "      <th>sellingprice</th>\n",
              "      <th>make_model</th>\n",
              "    </tr>\n",
              "  </thead>\n",
              "  <tbody>\n",
              "    <tr>\n",
              "      <th>0</th>\n",
              "      <td>2015</td>\n",
              "      <td>Suv</td>\n",
              "      <td>automatic</td>\n",
              "      <td>CA</td>\n",
              "      <td>5.0</td>\n",
              "      <td>16639.0</td>\n",
              "      <td>white</td>\n",
              "      <td>black</td>\n",
              "      <td>21500</td>\n",
              "      <td>Kia Sorento</td>\n",
              "    </tr>\n",
              "    <tr>\n",
              "      <th>1</th>\n",
              "      <td>2015</td>\n",
              "      <td>Suv</td>\n",
              "      <td>automatic</td>\n",
              "      <td>CA</td>\n",
              "      <td>5.0</td>\n",
              "      <td>9393.0</td>\n",
              "      <td>white</td>\n",
              "      <td>beige</td>\n",
              "      <td>21500</td>\n",
              "      <td>Kia Sorento</td>\n",
              "    </tr>\n",
              "    <tr>\n",
              "      <th>5</th>\n",
              "      <td>2015</td>\n",
              "      <td>Sedan</td>\n",
              "      <td>automatic</td>\n",
              "      <td>CA</td>\n",
              "      <td>1.0</td>\n",
              "      <td>5554.0</td>\n",
              "      <td>gray</td>\n",
              "      <td>black</td>\n",
              "      <td>10900</td>\n",
              "      <td>Nissan Altima</td>\n",
              "    </tr>\n",
              "    <tr>\n",
              "      <th>7</th>\n",
              "      <td>2014</td>\n",
              "      <td>Sedan</td>\n",
              "      <td>automatic</td>\n",
              "      <td>CA</td>\n",
              "      <td>2.0</td>\n",
              "      <td>28617.0</td>\n",
              "      <td>black</td>\n",
              "      <td>black</td>\n",
              "      <td>9800</td>\n",
              "      <td>Chevrolet Cruze</td>\n",
              "    </tr>\n",
              "    <tr>\n",
              "      <th>8</th>\n",
              "      <td>2014</td>\n",
              "      <td>Sedan</td>\n",
              "      <td>automatic</td>\n",
              "      <td>CA</td>\n",
              "      <td>4.2</td>\n",
              "      <td>9557.0</td>\n",
              "      <td>white</td>\n",
              "      <td>black</td>\n",
              "      <td>32250</td>\n",
              "      <td>Audi A4</td>\n",
              "    </tr>\n",
              "  </tbody>\n",
              "</table>\n",
              "</div>"
            ],
            "text/plain": [
              "   year   body transmission  ... interior  sellingprice       make_model\n",
              "0  2015    Suv    automatic  ...    black         21500      Kia Sorento\n",
              "1  2015    Suv    automatic  ...    beige         21500      Kia Sorento\n",
              "5  2015  Sedan    automatic  ...    black         10900    Nissan Altima\n",
              "7  2014  Sedan    automatic  ...    black          9800  Chevrolet Cruze\n",
              "8  2014  Sedan    automatic  ...    black         32250          Audi A4\n",
              "\n",
              "[5 rows x 10 columns]"
            ]
          },
          "metadata": {
            "tags": []
          },
          "execution_count": 373
        }
      ]
    },
    {
      "cell_type": "markdown",
      "metadata": {
        "id": "1CgMKwh4JMAI"
      },
      "source": [
        "I dropped the 'trim' variable since there are too many categories. \n",
        "\n",
        "I also dropped the 'mmr' variable since it was highly correlated with the 'sellingprice' variable"
      ]
    },
    {
      "cell_type": "code",
      "metadata": {
        "id": "nmMmkWp8k7vY"
      },
      "source": [
        "car_df.to_csv(r'CarSalesFinal4.csv', index = False)"
      ],
      "execution_count": 374,
      "outputs": []
    },
    {
      "cell_type": "code",
      "metadata": {
        "colab": {
          "base_uri": "https://localhost:8080/",
          "height": 204
        },
        "id": "uCFrNo3mR9j9",
        "outputId": "e82e9990-adb1-4cb6-ddf4-42db5b996955"
      },
      "source": [
        "car_df.head()"
      ],
      "execution_count": 375,
      "outputs": [
        {
          "output_type": "execute_result",
          "data": {
            "text/html": [
              "<div>\n",
              "<style scoped>\n",
              "    .dataframe tbody tr th:only-of-type {\n",
              "        vertical-align: middle;\n",
              "    }\n",
              "\n",
              "    .dataframe tbody tr th {\n",
              "        vertical-align: top;\n",
              "    }\n",
              "\n",
              "    .dataframe thead th {\n",
              "        text-align: right;\n",
              "    }\n",
              "</style>\n",
              "<table border=\"1\" class=\"dataframe\">\n",
              "  <thead>\n",
              "    <tr style=\"text-align: right;\">\n",
              "      <th></th>\n",
              "      <th>year</th>\n",
              "      <th>body</th>\n",
              "      <th>transmission</th>\n",
              "      <th>state</th>\n",
              "      <th>condition</th>\n",
              "      <th>odometer</th>\n",
              "      <th>color</th>\n",
              "      <th>interior</th>\n",
              "      <th>sellingprice</th>\n",
              "      <th>make_model</th>\n",
              "    </tr>\n",
              "  </thead>\n",
              "  <tbody>\n",
              "    <tr>\n",
              "      <th>0</th>\n",
              "      <td>2015</td>\n",
              "      <td>Suv</td>\n",
              "      <td>automatic</td>\n",
              "      <td>CA</td>\n",
              "      <td>5.0</td>\n",
              "      <td>16639.0</td>\n",
              "      <td>white</td>\n",
              "      <td>black</td>\n",
              "      <td>21500</td>\n",
              "      <td>Kia Sorento</td>\n",
              "    </tr>\n",
              "    <tr>\n",
              "      <th>1</th>\n",
              "      <td>2015</td>\n",
              "      <td>Suv</td>\n",
              "      <td>automatic</td>\n",
              "      <td>CA</td>\n",
              "      <td>5.0</td>\n",
              "      <td>9393.0</td>\n",
              "      <td>white</td>\n",
              "      <td>beige</td>\n",
              "      <td>21500</td>\n",
              "      <td>Kia Sorento</td>\n",
              "    </tr>\n",
              "    <tr>\n",
              "      <th>5</th>\n",
              "      <td>2015</td>\n",
              "      <td>Sedan</td>\n",
              "      <td>automatic</td>\n",
              "      <td>CA</td>\n",
              "      <td>1.0</td>\n",
              "      <td>5554.0</td>\n",
              "      <td>gray</td>\n",
              "      <td>black</td>\n",
              "      <td>10900</td>\n",
              "      <td>Nissan Altima</td>\n",
              "    </tr>\n",
              "    <tr>\n",
              "      <th>7</th>\n",
              "      <td>2014</td>\n",
              "      <td>Sedan</td>\n",
              "      <td>automatic</td>\n",
              "      <td>CA</td>\n",
              "      <td>2.0</td>\n",
              "      <td>28617.0</td>\n",
              "      <td>black</td>\n",
              "      <td>black</td>\n",
              "      <td>9800</td>\n",
              "      <td>Chevrolet Cruze</td>\n",
              "    </tr>\n",
              "    <tr>\n",
              "      <th>8</th>\n",
              "      <td>2014</td>\n",
              "      <td>Sedan</td>\n",
              "      <td>automatic</td>\n",
              "      <td>CA</td>\n",
              "      <td>4.2</td>\n",
              "      <td>9557.0</td>\n",
              "      <td>white</td>\n",
              "      <td>black</td>\n",
              "      <td>32250</td>\n",
              "      <td>Audi A4</td>\n",
              "    </tr>\n",
              "  </tbody>\n",
              "</table>\n",
              "</div>"
            ],
            "text/plain": [
              "   year   body transmission  ... interior  sellingprice       make_model\n",
              "0  2015    Suv    automatic  ...    black         21500      Kia Sorento\n",
              "1  2015    Suv    automatic  ...    beige         21500      Kia Sorento\n",
              "5  2015  Sedan    automatic  ...    black         10900    Nissan Altima\n",
              "7  2014  Sedan    automatic  ...    black          9800  Chevrolet Cruze\n",
              "8  2014  Sedan    automatic  ...    black         32250          Audi A4\n",
              "\n",
              "[5 rows x 10 columns]"
            ]
          },
          "metadata": {
            "tags": []
          },
          "execution_count": 375
        }
      ]
    },
    {
      "cell_type": "markdown",
      "metadata": {
        "id": "rYkcHRjZwCV9"
      },
      "source": [
        "#### One-Hot Encoding"
      ]
    },
    {
      "cell_type": "markdown",
      "metadata": {
        "id": "Tw_xTUHbJD9g"
      },
      "source": [
        "We need to one-hot encode (string->numeric) our qualitative variables since algorithms can't work with string types."
      ]
    },
    {
      "cell_type": "code",
      "metadata": {
        "colab": {
          "base_uri": "https://localhost:8080/",
          "height": 204
        },
        "id": "i75NnmjYREZq",
        "outputId": "5ab9b1e1-4274-45fc-f50b-489c74c22e7e"
      },
      "source": [
        "car_df.head()"
      ],
      "execution_count": 376,
      "outputs": [
        {
          "output_type": "execute_result",
          "data": {
            "text/html": [
              "<div>\n",
              "<style scoped>\n",
              "    .dataframe tbody tr th:only-of-type {\n",
              "        vertical-align: middle;\n",
              "    }\n",
              "\n",
              "    .dataframe tbody tr th {\n",
              "        vertical-align: top;\n",
              "    }\n",
              "\n",
              "    .dataframe thead th {\n",
              "        text-align: right;\n",
              "    }\n",
              "</style>\n",
              "<table border=\"1\" class=\"dataframe\">\n",
              "  <thead>\n",
              "    <tr style=\"text-align: right;\">\n",
              "      <th></th>\n",
              "      <th>year</th>\n",
              "      <th>body</th>\n",
              "      <th>transmission</th>\n",
              "      <th>state</th>\n",
              "      <th>condition</th>\n",
              "      <th>odometer</th>\n",
              "      <th>color</th>\n",
              "      <th>interior</th>\n",
              "      <th>sellingprice</th>\n",
              "      <th>make_model</th>\n",
              "    </tr>\n",
              "  </thead>\n",
              "  <tbody>\n",
              "    <tr>\n",
              "      <th>0</th>\n",
              "      <td>2015</td>\n",
              "      <td>Suv</td>\n",
              "      <td>automatic</td>\n",
              "      <td>CA</td>\n",
              "      <td>5.0</td>\n",
              "      <td>16639.0</td>\n",
              "      <td>white</td>\n",
              "      <td>black</td>\n",
              "      <td>21500</td>\n",
              "      <td>Kia Sorento</td>\n",
              "    </tr>\n",
              "    <tr>\n",
              "      <th>1</th>\n",
              "      <td>2015</td>\n",
              "      <td>Suv</td>\n",
              "      <td>automatic</td>\n",
              "      <td>CA</td>\n",
              "      <td>5.0</td>\n",
              "      <td>9393.0</td>\n",
              "      <td>white</td>\n",
              "      <td>beige</td>\n",
              "      <td>21500</td>\n",
              "      <td>Kia Sorento</td>\n",
              "    </tr>\n",
              "    <tr>\n",
              "      <th>5</th>\n",
              "      <td>2015</td>\n",
              "      <td>Sedan</td>\n",
              "      <td>automatic</td>\n",
              "      <td>CA</td>\n",
              "      <td>1.0</td>\n",
              "      <td>5554.0</td>\n",
              "      <td>gray</td>\n",
              "      <td>black</td>\n",
              "      <td>10900</td>\n",
              "      <td>Nissan Altima</td>\n",
              "    </tr>\n",
              "    <tr>\n",
              "      <th>7</th>\n",
              "      <td>2014</td>\n",
              "      <td>Sedan</td>\n",
              "      <td>automatic</td>\n",
              "      <td>CA</td>\n",
              "      <td>2.0</td>\n",
              "      <td>28617.0</td>\n",
              "      <td>black</td>\n",
              "      <td>black</td>\n",
              "      <td>9800</td>\n",
              "      <td>Chevrolet Cruze</td>\n",
              "    </tr>\n",
              "    <tr>\n",
              "      <th>8</th>\n",
              "      <td>2014</td>\n",
              "      <td>Sedan</td>\n",
              "      <td>automatic</td>\n",
              "      <td>CA</td>\n",
              "      <td>4.2</td>\n",
              "      <td>9557.0</td>\n",
              "      <td>white</td>\n",
              "      <td>black</td>\n",
              "      <td>32250</td>\n",
              "      <td>Audi A4</td>\n",
              "    </tr>\n",
              "  </tbody>\n",
              "</table>\n",
              "</div>"
            ],
            "text/plain": [
              "   year   body transmission  ... interior  sellingprice       make_model\n",
              "0  2015    Suv    automatic  ...    black         21500      Kia Sorento\n",
              "1  2015    Suv    automatic  ...    beige         21500      Kia Sorento\n",
              "5  2015  Sedan    automatic  ...    black         10900    Nissan Altima\n",
              "7  2014  Sedan    automatic  ...    black          9800  Chevrolet Cruze\n",
              "8  2014  Sedan    automatic  ...    black         32250          Audi A4\n",
              "\n",
              "[5 rows x 10 columns]"
            ]
          },
          "metadata": {
            "tags": []
          },
          "execution_count": 376
        }
      ]
    },
    {
      "cell_type": "code",
      "metadata": {
        "id": "rm3yj9yOwBeY"
      },
      "source": [
        "car_df = pd.concat([car_df, pd.get_dummies(car_df[['make_model', 'body', 'transmission',\t'state',\t'color',\t'interior']], drop_first=True)], axis=1)\n",
        "car_df.drop(columns=['make_model', 'body', 'transmission',\t'state',\t'color',\t'interior'], axis=1, inplace=True)"
      ],
      "execution_count": 377,
      "outputs": []
    },
    {
      "cell_type": "code",
      "metadata": {
        "colab": {
          "base_uri": "https://localhost:8080/",
          "height": 204
        },
        "id": "KQJZOAy8Q2_g",
        "outputId": "8a626bdd-8521-464f-f146-4a3b34145677"
      },
      "source": [
        "X.head()"
      ],
      "execution_count": 378,
      "outputs": [
        {
          "output_type": "execute_result",
          "data": {
            "text/html": [
              "<div>\n",
              "<style scoped>\n",
              "    .dataframe tbody tr th:only-of-type {\n",
              "        vertical-align: middle;\n",
              "    }\n",
              "\n",
              "    .dataframe tbody tr th {\n",
              "        vertical-align: top;\n",
              "    }\n",
              "\n",
              "    .dataframe thead th {\n",
              "        text-align: right;\n",
              "    }\n",
              "</style>\n",
              "<table border=\"1\" class=\"dataframe\">\n",
              "  <thead>\n",
              "    <tr style=\"text-align: right;\">\n",
              "      <th></th>\n",
              "      <th>year</th>\n",
              "      <th>body</th>\n",
              "      <th>transmission</th>\n",
              "      <th>state</th>\n",
              "      <th>condition</th>\n",
              "      <th>odometer</th>\n",
              "      <th>color</th>\n",
              "      <th>interior</th>\n",
              "      <th>make_model</th>\n",
              "    </tr>\n",
              "  </thead>\n",
              "  <tbody>\n",
              "    <tr>\n",
              "      <th>0</th>\n",
              "      <td>2015</td>\n",
              "      <td>Suv</td>\n",
              "      <td>automatic</td>\n",
              "      <td>CA</td>\n",
              "      <td>5.0</td>\n",
              "      <td>16639.0</td>\n",
              "      <td>white</td>\n",
              "      <td>black</td>\n",
              "      <td>Kia Sorento</td>\n",
              "    </tr>\n",
              "    <tr>\n",
              "      <th>1</th>\n",
              "      <td>2015</td>\n",
              "      <td>Suv</td>\n",
              "      <td>automatic</td>\n",
              "      <td>CA</td>\n",
              "      <td>5.0</td>\n",
              "      <td>9393.0</td>\n",
              "      <td>white</td>\n",
              "      <td>beige</td>\n",
              "      <td>Kia Sorento</td>\n",
              "    </tr>\n",
              "    <tr>\n",
              "      <th>5</th>\n",
              "      <td>2015</td>\n",
              "      <td>Sedan</td>\n",
              "      <td>automatic</td>\n",
              "      <td>CA</td>\n",
              "      <td>1.0</td>\n",
              "      <td>5554.0</td>\n",
              "      <td>gray</td>\n",
              "      <td>black</td>\n",
              "      <td>Nissan Altima</td>\n",
              "    </tr>\n",
              "    <tr>\n",
              "      <th>7</th>\n",
              "      <td>2014</td>\n",
              "      <td>Sedan</td>\n",
              "      <td>automatic</td>\n",
              "      <td>CA</td>\n",
              "      <td>2.0</td>\n",
              "      <td>28617.0</td>\n",
              "      <td>black</td>\n",
              "      <td>black</td>\n",
              "      <td>Chevrolet Cruze</td>\n",
              "    </tr>\n",
              "    <tr>\n",
              "      <th>8</th>\n",
              "      <td>2014</td>\n",
              "      <td>Sedan</td>\n",
              "      <td>automatic</td>\n",
              "      <td>CA</td>\n",
              "      <td>4.2</td>\n",
              "      <td>9557.0</td>\n",
              "      <td>white</td>\n",
              "      <td>black</td>\n",
              "      <td>Audi A4</td>\n",
              "    </tr>\n",
              "  </tbody>\n",
              "</table>\n",
              "</div>"
            ],
            "text/plain": [
              "   year   body transmission state  ...  odometer  color interior       make_model\n",
              "0  2015    Suv    automatic    CA  ...   16639.0  white    black      Kia Sorento\n",
              "1  2015    Suv    automatic    CA  ...    9393.0  white    beige      Kia Sorento\n",
              "5  2015  Sedan    automatic    CA  ...    5554.0   gray    black    Nissan Altima\n",
              "7  2014  Sedan    automatic    CA  ...   28617.0  black    black  Chevrolet Cruze\n",
              "8  2014  Sedan    automatic    CA  ...    9557.0  white    black          Audi A4\n",
              "\n",
              "[5 rows x 9 columns]"
            ]
          },
          "metadata": {
            "tags": []
          },
          "execution_count": 378
        }
      ]
    },
    {
      "cell_type": "markdown",
      "metadata": {
        "id": "5zb7ZCAcJ2c2"
      },
      "source": [
        "### Train and Test"
      ]
    },
    {
      "cell_type": "markdown",
      "metadata": {
        "id": "UCYYippXk7fV"
      },
      "source": [
        "Next we need to separate the variables into X (features) and Y (target).\n",
        "\n",
        "In this case, 'sellingprice' will be the target"
      ]
    },
    {
      "cell_type": "code",
      "metadata": {
        "id": "n-Af_SwWnglL"
      },
      "source": [
        "from sklearn.model_selection import train_test_split, cross_val_score\n",
        "\n",
        "X = car_df.drop(columns='sellingprice', axis=1)\n",
        "y = car_df['sellingprice']\n"
      ],
      "execution_count": 379,
      "outputs": []
    },
    {
      "cell_type": "code",
      "metadata": {
        "id": "MiI91dWWmBUc"
      },
      "source": [
        "X_train, X_test, y_train, y_test = train_test_split(X, y, \n",
        "                                                    test_size = 0.2)"
      ],
      "execution_count": 380,
      "outputs": []
    },
    {
      "cell_type": "code",
      "metadata": {
        "id": "It0XhRVQXLmi"
      },
      "source": [
        "for i in X.columns:\n",
        "  print(i)"
      ],
      "execution_count": null,
      "outputs": []
    },
    {
      "cell_type": "code",
      "metadata": {
        "id": "1NHyPMhNnvCP",
        "colab": {
          "base_uri": "https://localhost:8080/"
        },
        "outputId": "3f77c22c-c503-4f0d-fe16-f368f2ac0f92"
      },
      "source": [
        "print(\"Number transactions X_train dataset: \", X_train.shape)\n",
        "print(\"Number transactions y_train dataset: \", y_train.shape)\n",
        "print(\"Number transactions X_test dataset: \", X_test.shape)\n",
        "print(\"Number transactions y_test dataset: \", y_test.shape)"
      ],
      "execution_count": 382,
      "outputs": [
        {
          "output_type": "stream",
          "text": [
            "Number transactions X_train dataset:  (248092, 180)\n",
            "Number transactions y_train dataset:  (248092,)\n",
            "Number transactions X_test dataset:  (62024, 180)\n",
            "Number transactions y_test dataset:  (62024,)\n"
          ],
          "name": "stdout"
        }
      ]
    },
    {
      "cell_type": "markdown",
      "metadata": {
        "id": "ohPTQxm8KeQU"
      },
      "source": [
        "# Model"
      ]
    },
    {
      "cell_type": "markdown",
      "metadata": {
        "id": "WSgTpe5SKiE7"
      },
      "source": [
        "For now I have a simple model but will need to tune the hyperparameters. GridSearch will be useful for this, however, will take some time to compute."
      ]
    },
    {
      "cell_type": "code",
      "metadata": {
        "id": "ChQM7IK8cTiA"
      },
      "source": [
        "rf = RandomForestRegressor(n_estimators=100, max_depth=8)\n",
        "model = rf.fit(X_train, y_train)"
      ],
      "execution_count": 383,
      "outputs": []
    },
    {
      "cell_type": "markdown",
      "metadata": {
        "id": "V7ViiD77KxVy"
      },
      "source": [
        "Saved the model in a pickle file so I can use it in my CarApp.py file"
      ]
    },
    {
      "cell_type": "code",
      "metadata": {
        "id": "pMdVXP9Oh1vL"
      },
      "source": [
        "import pickle\n",
        "pickle.dump(model, open('CarAuctionFinal3.pkl', 'wb'))"
      ],
      "execution_count": 384,
      "outputs": []
    },
    {
      "cell_type": "markdown",
      "metadata": {
        "id": "SJU5zl14K7gu"
      },
      "source": [
        "### Score"
      ]
    },
    {
      "cell_type": "code",
      "metadata": {
        "id": "F30EadC-b4Re",
        "colab": {
          "base_uri": "https://localhost:8080/"
        },
        "outputId": "13e221e5-6a6d-4ba5-a7db-37667f686bef"
      },
      "source": [
        "print(rf.score(X_train, y_train))\n",
        "print(rf.score(X_test, y_test))"
      ],
      "execution_count": 385,
      "outputs": [
        {
          "output_type": "stream",
          "text": [
            "0.7267220483490002\n",
            "0.723655467784577\n"
          ],
          "name": "stdout"
        }
      ]
    },
    {
      "cell_type": "code",
      "metadata": {
        "id": "MG3L7NXQeLdL"
      },
      "source": [
        ""
      ],
      "execution_count": 385,
      "outputs": []
    }
  ]
}